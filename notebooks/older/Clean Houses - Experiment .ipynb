{
 "cells": [
  {
   "cell_type": "markdown",
   "metadata": {},
   "source": [
    "# Work items\n",
    "\n",
    "- house_type:leave\n",
    "- address: remove\n",
    "- region: clean and consolidate, remove rows with nulls\n",
    "- area: remove rows with nulls, remove > 500\n",
    "- sup_area: replace null with 0\n",
    "- rooms: replace nulls by padding\n",
    "- land_area: replace nulls with 0, remove > 2500 where area < 70. 0 => condo = 1\n",
    "- monthly_fee: replace nulls with 0\n",
    "- date_sold: generate year/month\n",
    "- broker: remove"
   ]
  },
  {
   "cell_type": "code",
   "execution_count": 1,
   "metadata": {
    "collapsed": true
   },
   "outputs": [],
   "source": [
    "import pandas as pd\n",
    "import matplotlib.pyplot as plt\n",
    "import seaborn as sns\n",
    "import numpy as np\n",
    "from datetime import datetime \n",
    "\n",
    "#open the dataset\n",
    "with open('../data/170829/houses.csv',encoding='latin-1') as f:\n",
    "    df = pd.read_csv(f)"
   ]
  },
  {
   "cell_type": "code",
   "execution_count": 2,
   "metadata": {
    "collapsed": true
   },
   "outputs": [],
   "source": [
    "#drop the columns we dont need\n",
    "try:\n",
    "    del df['Unnamed: 0']\n",
    "except:\n",
    "    pass\n",
    "try:\n",
    "    del df['address']\n",
    "except:\n",
    "    pass\n",
    "try:\n",
    "    del df['broker']\n",
    "except:\n",
    "    pass\n",
    "try:\n",
    "    del df['price_change_pct']\n",
    "except:\n",
    "    pass"
   ]
  },
  {
   "cell_type": "code",
   "execution_count": 3,
   "metadata": {},
   "outputs": [
    {
     "data": {
      "text/plain": [
       "house_type     1173\n",
       "region         1162\n",
       "area           1161\n",
       "sup_area        615\n",
       "rooms          1154\n",
       "land_area       915\n",
       "monthly_fee     248\n",
       "date_sold      1173\n",
       "price          1173\n",
       "dtype: int64"
      ]
     },
     "execution_count": 3,
     "metadata": {},
     "output_type": "execute_result"
    }
   ],
   "source": [
    "df.count()"
   ]
  },
  {
   "cell_type": "code",
   "execution_count": 4,
   "metadata": {},
   "outputs": [
    {
     "data": {
      "text/html": [
       "<div>\n",
       "<style>\n",
       "    .dataframe thead tr:only-child th {\n",
       "        text-align: right;\n",
       "    }\n",
       "\n",
       "    .dataframe thead th {\n",
       "        text-align: left;\n",
       "    }\n",
       "\n",
       "    .dataframe tbody tr th {\n",
       "        vertical-align: top;\n",
       "    }\n",
       "</style>\n",
       "<table border=\"1\" class=\"dataframe\">\n",
       "  <thead>\n",
       "    <tr style=\"text-align: right;\">\n",
       "      <th></th>\n",
       "      <th>house_type</th>\n",
       "      <th>region</th>\n",
       "      <th>area</th>\n",
       "      <th>sup_area</th>\n",
       "      <th>rooms</th>\n",
       "      <th>land_area</th>\n",
       "      <th>monthly_fee</th>\n",
       "      <th>date_sold</th>\n",
       "      <th>price</th>\n",
       "    </tr>\n",
       "  </thead>\n",
       "  <tbody>\n",
       "    <tr>\n",
       "      <th>0</th>\n",
       "      <td>Villa</td>\n",
       "      <td>Viby</td>\n",
       "      <td>155.0</td>\n",
       "      <td>NaN</td>\n",
       "      <td>6.0</td>\n",
       "      <td>1232.0</td>\n",
       "      <td>NaN</td>\n",
       "      <td>2017-08-29</td>\n",
       "      <td>7700000</td>\n",
       "    </tr>\n",
       "    <tr>\n",
       "      <th>1</th>\n",
       "      <td>Radhus</td>\n",
       "      <td>Norrviken</td>\n",
       "      <td>107.0</td>\n",
       "      <td>10.0</td>\n",
       "      <td>5.0</td>\n",
       "      <td>208.0</td>\n",
       "      <td>NaN</td>\n",
       "      <td>2017-08-28</td>\n",
       "      <td>4765000</td>\n",
       "    </tr>\n",
       "    <tr>\n",
       "      <th>2</th>\n",
       "      <td>Villa</td>\n",
       "      <td>Edsviken</td>\n",
       "      <td>208.0</td>\n",
       "      <td>22.0</td>\n",
       "      <td>9.0</td>\n",
       "      <td>1003.0</td>\n",
       "      <td>NaN</td>\n",
       "      <td>2017-08-28</td>\n",
       "      <td>12700000</td>\n",
       "    </tr>\n",
       "    <tr>\n",
       "      <th>3</th>\n",
       "      <td>Villa</td>\n",
       "      <td>Norrviken</td>\n",
       "      <td>190.0</td>\n",
       "      <td>103.0</td>\n",
       "      <td>8.0</td>\n",
       "      <td>1389.0</td>\n",
       "      <td>NaN</td>\n",
       "      <td>2017-08-25</td>\n",
       "      <td>12000000</td>\n",
       "    </tr>\n",
       "    <tr>\n",
       "      <th>4</th>\n",
       "      <td>Villa</td>\n",
       "      <td>Edsviken</td>\n",
       "      <td>198.0</td>\n",
       "      <td>91.0</td>\n",
       "      <td>7.0</td>\n",
       "      <td>1160.0</td>\n",
       "      <td>NaN</td>\n",
       "      <td>2017-08-25</td>\n",
       "      <td>12100000</td>\n",
       "    </tr>\n",
       "  </tbody>\n",
       "</table>\n",
       "</div>"
      ],
      "text/plain": [
       "  house_type     region   area  sup_area  rooms  land_area  monthly_fee  \\\n",
       "0      Villa       Viby  155.0       NaN    6.0     1232.0          NaN   \n",
       "1     Radhus  Norrviken  107.0      10.0    5.0      208.0          NaN   \n",
       "2      Villa   Edsviken  208.0      22.0    9.0     1003.0          NaN   \n",
       "3      Villa  Norrviken  190.0     103.0    8.0     1389.0          NaN   \n",
       "4      Villa   Edsviken  198.0      91.0    7.0     1160.0          NaN   \n",
       "\n",
       "    date_sold     price  \n",
       "0  2017-08-29   7700000  \n",
       "1  2017-08-28   4765000  \n",
       "2  2017-08-28  12700000  \n",
       "3  2017-08-25  12000000  \n",
       "4  2017-08-25  12100000  "
      ]
     },
     "execution_count": 4,
     "metadata": {},
     "output_type": "execute_result"
    }
   ],
   "source": [
    "df.head(5)"
   ]
  },
  {
   "cell_type": "code",
   "execution_count": 5,
   "metadata": {
    "collapsed": true
   },
   "outputs": [],
   "source": [
    "#area - remove nulls and remove area > 500\n",
    "df['area'].fillna(0, inplace=True)\n",
    "df = df[df.area < 500]"
   ]
  },
  {
   "cell_type": "code",
   "execution_count": 6,
   "metadata": {
    "collapsed": true
   },
   "outputs": [],
   "source": [
    "#sup_area - replace nulls with 0\n",
    "df['sup_area'].fillna(0, inplace=True)"
   ]
  },
  {
   "cell_type": "code",
   "execution_count": 7,
   "metadata": {},
   "outputs": [
    {
     "data": {
      "text/plain": [
       "house_type     1172\n",
       "region         1161\n",
       "area           1172\n",
       "sup_area       1172\n",
       "rooms          1153\n",
       "land_area       914\n",
       "monthly_fee     248\n",
       "date_sold      1172\n",
       "price          1172\n",
       "dtype: int64"
      ]
     },
     "execution_count": 7,
     "metadata": {},
     "output_type": "execute_result"
    }
   ],
   "source": [
    "df.count()"
   ]
  },
  {
   "cell_type": "code",
   "execution_count": 8,
   "metadata": {
    "collapsed": true
   },
   "outputs": [],
   "source": [
    "# fix date time\n",
    "df['date_sold'] = pd.to_datetime(df['date_sold'])\n",
    "df['year'] = df['date_sold'].dt.year\n",
    "df['month'] = df['date_sold'].dt.month"
   ]
  },
  {
   "cell_type": "code",
   "execution_count": 9,
   "metadata": {
    "collapsed": true
   },
   "outputs": [],
   "source": [
    "df['running_month'] = (df['year']-2013)*12+df['month']"
   ]
  },
  {
   "cell_type": "code",
   "execution_count": 10,
   "metadata": {},
   "outputs": [
    {
     "data": {
      "text/html": [
       "<div>\n",
       "<style>\n",
       "    .dataframe thead tr:only-child th {\n",
       "        text-align: right;\n",
       "    }\n",
       "\n",
       "    .dataframe thead th {\n",
       "        text-align: left;\n",
       "    }\n",
       "\n",
       "    .dataframe tbody tr th {\n",
       "        vertical-align: top;\n",
       "    }\n",
       "</style>\n",
       "<table border=\"1\" class=\"dataframe\">\n",
       "  <thead>\n",
       "    <tr style=\"text-align: right;\">\n",
       "      <th></th>\n",
       "      <th>house_type</th>\n",
       "      <th>region</th>\n",
       "      <th>area</th>\n",
       "      <th>sup_area</th>\n",
       "      <th>rooms</th>\n",
       "      <th>land_area</th>\n",
       "      <th>monthly_fee</th>\n",
       "      <th>date_sold</th>\n",
       "      <th>price</th>\n",
       "      <th>year</th>\n",
       "      <th>month</th>\n",
       "      <th>running_month</th>\n",
       "    </tr>\n",
       "  </thead>\n",
       "  <tbody>\n",
       "    <tr>\n",
       "      <th>0</th>\n",
       "      <td>Villa</td>\n",
       "      <td>Viby</td>\n",
       "      <td>155.0</td>\n",
       "      <td>0.0</td>\n",
       "      <td>6.0</td>\n",
       "      <td>1232.0</td>\n",
       "      <td>NaN</td>\n",
       "      <td>2017-08-29</td>\n",
       "      <td>7700000</td>\n",
       "      <td>2017</td>\n",
       "      <td>8</td>\n",
       "      <td>56</td>\n",
       "    </tr>\n",
       "    <tr>\n",
       "      <th>1</th>\n",
       "      <td>Radhus</td>\n",
       "      <td>Norrviken</td>\n",
       "      <td>107.0</td>\n",
       "      <td>10.0</td>\n",
       "      <td>5.0</td>\n",
       "      <td>208.0</td>\n",
       "      <td>NaN</td>\n",
       "      <td>2017-08-28</td>\n",
       "      <td>4765000</td>\n",
       "      <td>2017</td>\n",
       "      <td>8</td>\n",
       "      <td>56</td>\n",
       "    </tr>\n",
       "    <tr>\n",
       "      <th>2</th>\n",
       "      <td>Villa</td>\n",
       "      <td>Edsviken</td>\n",
       "      <td>208.0</td>\n",
       "      <td>22.0</td>\n",
       "      <td>9.0</td>\n",
       "      <td>1003.0</td>\n",
       "      <td>NaN</td>\n",
       "      <td>2017-08-28</td>\n",
       "      <td>12700000</td>\n",
       "      <td>2017</td>\n",
       "      <td>8</td>\n",
       "      <td>56</td>\n",
       "    </tr>\n",
       "    <tr>\n",
       "      <th>3</th>\n",
       "      <td>Villa</td>\n",
       "      <td>Norrviken</td>\n",
       "      <td>190.0</td>\n",
       "      <td>103.0</td>\n",
       "      <td>8.0</td>\n",
       "      <td>1389.0</td>\n",
       "      <td>NaN</td>\n",
       "      <td>2017-08-25</td>\n",
       "      <td>12000000</td>\n",
       "      <td>2017</td>\n",
       "      <td>8</td>\n",
       "      <td>56</td>\n",
       "    </tr>\n",
       "    <tr>\n",
       "      <th>4</th>\n",
       "      <td>Villa</td>\n",
       "      <td>Edsviken</td>\n",
       "      <td>198.0</td>\n",
       "      <td>91.0</td>\n",
       "      <td>7.0</td>\n",
       "      <td>1160.0</td>\n",
       "      <td>NaN</td>\n",
       "      <td>2017-08-25</td>\n",
       "      <td>12100000</td>\n",
       "      <td>2017</td>\n",
       "      <td>8</td>\n",
       "      <td>56</td>\n",
       "    </tr>\n",
       "  </tbody>\n",
       "</table>\n",
       "</div>"
      ],
      "text/plain": [
       "  house_type     region   area  sup_area  rooms  land_area  monthly_fee  \\\n",
       "0      Villa       Viby  155.0       0.0    6.0     1232.0          NaN   \n",
       "1     Radhus  Norrviken  107.0      10.0    5.0      208.0          NaN   \n",
       "2      Villa   Edsviken  208.0      22.0    9.0     1003.0          NaN   \n",
       "3      Villa  Norrviken  190.0     103.0    8.0     1389.0          NaN   \n",
       "4      Villa   Edsviken  198.0      91.0    7.0     1160.0          NaN   \n",
       "\n",
       "   date_sold     price  year  month  running_month  \n",
       "0 2017-08-29   7700000  2017      8             56  \n",
       "1 2017-08-28   4765000  2017      8             56  \n",
       "2 2017-08-28  12700000  2017      8             56  \n",
       "3 2017-08-25  12000000  2017      8             56  \n",
       "4 2017-08-25  12100000  2017      8             56  "
      ]
     },
     "execution_count": 10,
     "metadata": {},
     "output_type": "execute_result"
    }
   ],
   "source": [
    "df.head(5)"
   ]
  },
  {
   "cell_type": "code",
   "execution_count": 13,
   "metadata": {
    "collapsed": true
   },
   "outputs": [],
   "source": [
    "df.to_csv('../data/170829/starterhouses.csv', index=False)"
   ]
  },
  {
   "cell_type": "code",
   "execution_count": null,
   "metadata": {
    "collapsed": true
   },
   "outputs": [],
   "source": []
  }
 ],
 "metadata": {
  "kernelspec": {
   "display_name": "Python 3",
   "language": "python",
   "name": "python3"
  },
  "language_info": {
   "codemirror_mode": {
    "name": "ipython",
    "version": 3
   },
   "file_extension": ".py",
   "mimetype": "text/x-python",
   "name": "python",
   "nbconvert_exporter": "python",
   "pygments_lexer": "ipython3",
   "version": "3.6.1"
  }
 },
 "nbformat": 4,
 "nbformat_minor": 2
}
