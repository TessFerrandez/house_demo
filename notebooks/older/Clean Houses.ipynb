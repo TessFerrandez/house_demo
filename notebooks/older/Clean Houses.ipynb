{
 "cells": [
  {
   "cell_type": "markdown",
   "metadata": {},
   "source": [
    "## Clean up the House Data from Hemnet"
   ]
  },
  {
   "cell_type": "code",
   "execution_count": 1,
   "metadata": {
    "collapsed": true
   },
   "outputs": [],
   "source": [
    "import pandas as pd\n",
    "import matplotlib.pyplot as plt\n",
    "import seaborn as sns\n",
    "import numpy as np\n",
    "from datetime import datetime "
   ]
  },
  {
   "cell_type": "markdown",
   "metadata": {},
   "source": [
    "The dataset contains Latin characters like å,ä,ö so we need to open it with latin-1 encoding"
   ]
  },
  {
   "cell_type": "code",
   "execution_count": 2,
   "metadata": {
    "collapsed": true
   },
   "outputs": [],
   "source": [
    "#open the dataset\n",
    "with open('../data/170829/houses.csv',encoding='latin-1') as f:\n",
    "    df = pd.read_csv(f)"
   ]
  },
  {
   "cell_type": "markdown",
   "metadata": {},
   "source": [
    "Get a feel for the dataset"
   ]
  },
  {
   "cell_type": "code",
   "execution_count": 3,
   "metadata": {},
   "outputs": [
    {
     "data": {
      "text/plain": [
       "(1173, 12)"
      ]
     },
     "execution_count": 3,
     "metadata": {},
     "output_type": "execute_result"
    }
   ],
   "source": [
    "#get the shape\n",
    "df.shape"
   ]
  },
  {
   "cell_type": "code",
   "execution_count": 4,
   "metadata": {},
   "outputs": [
    {
     "data": {
      "text/html": [
       "<div>\n",
       "<style>\n",
       "    .dataframe thead tr:only-child th {\n",
       "        text-align: right;\n",
       "    }\n",
       "\n",
       "    .dataframe thead th {\n",
       "        text-align: left;\n",
       "    }\n",
       "\n",
       "    .dataframe tbody tr th {\n",
       "        vertical-align: top;\n",
       "    }\n",
       "</style>\n",
       "<table border=\"1\" class=\"dataframe\">\n",
       "  <thead>\n",
       "    <tr style=\"text-align: right;\">\n",
       "      <th></th>\n",
       "      <th>area</th>\n",
       "      <th>sup_area</th>\n",
       "      <th>rooms</th>\n",
       "      <th>land_area</th>\n",
       "      <th>monthly_fee</th>\n",
       "      <th>price_change_pct</th>\n",
       "      <th>price</th>\n",
       "    </tr>\n",
       "  </thead>\n",
       "  <tbody>\n",
       "    <tr>\n",
       "      <th>count</th>\n",
       "      <td>1161.000000</td>\n",
       "      <td>615.000000</td>\n",
       "      <td>1154.000000</td>\n",
       "      <td>915.000000</td>\n",
       "      <td>248.000000</td>\n",
       "      <td>1013.000000</td>\n",
       "      <td>1.173000e+03</td>\n",
       "    </tr>\n",
       "    <tr>\n",
       "      <th>mean</th>\n",
       "      <td>133.893712</td>\n",
       "      <td>48.402602</td>\n",
       "      <td>5.302860</td>\n",
       "      <td>708.743497</td>\n",
       "      <td>4732.528226</td>\n",
       "      <td>8.883514</td>\n",
       "      <td>5.728539e+06</td>\n",
       "    </tr>\n",
       "    <tr>\n",
       "      <th>std</th>\n",
       "      <td>40.052265</td>\n",
       "      <td>38.854796</td>\n",
       "      <td>1.463461</td>\n",
       "      <td>547.847411</td>\n",
       "      <td>1024.506335</td>\n",
       "      <td>9.621403</td>\n",
       "      <td>2.330008e+06</td>\n",
       "    </tr>\n",
       "    <tr>\n",
       "      <th>min</th>\n",
       "      <td>35.000000</td>\n",
       "      <td>1.500000</td>\n",
       "      <td>1.500000</td>\n",
       "      <td>101.000000</td>\n",
       "      <td>2095.000000</td>\n",
       "      <td>-16.000000</td>\n",
       "      <td>1.450000e+06</td>\n",
       "    </tr>\n",
       "    <tr>\n",
       "      <th>25%</th>\n",
       "      <td>108.000000</td>\n",
       "      <td>15.000000</td>\n",
       "      <td>4.000000</td>\n",
       "      <td>251.000000</td>\n",
       "      <td>4105.000000</td>\n",
       "      <td>2.000000</td>\n",
       "      <td>4.070000e+06</td>\n",
       "    </tr>\n",
       "    <tr>\n",
       "      <th>50%</th>\n",
       "      <td>127.000000</td>\n",
       "      <td>38.000000</td>\n",
       "      <td>5.000000</td>\n",
       "      <td>715.000000</td>\n",
       "      <td>4656.000000</td>\n",
       "      <td>8.000000</td>\n",
       "      <td>5.450000e+06</td>\n",
       "    </tr>\n",
       "    <tr>\n",
       "      <th>75%</th>\n",
       "      <td>157.000000</td>\n",
       "      <td>74.500000</td>\n",
       "      <td>6.000000</td>\n",
       "      <td>1018.000000</td>\n",
       "      <td>5301.000000</td>\n",
       "      <td>15.000000</td>\n",
       "      <td>7.000000e+06</td>\n",
       "    </tr>\n",
       "    <tr>\n",
       "      <th>max</th>\n",
       "      <td>500.000000</td>\n",
       "      <td>291.000000</td>\n",
       "      <td>14.000000</td>\n",
       "      <td>9106.000000</td>\n",
       "      <td>7993.000000</td>\n",
       "      <td>57.000000</td>\n",
       "      <td>2.117500e+07</td>\n",
       "    </tr>\n",
       "  </tbody>\n",
       "</table>\n",
       "</div>"
      ],
      "text/plain": [
       "              area    sup_area        rooms    land_area  monthly_fee  \\\n",
       "count  1161.000000  615.000000  1154.000000   915.000000   248.000000   \n",
       "mean    133.893712   48.402602     5.302860   708.743497  4732.528226   \n",
       "std      40.052265   38.854796     1.463461   547.847411  1024.506335   \n",
       "min      35.000000    1.500000     1.500000   101.000000  2095.000000   \n",
       "25%     108.000000   15.000000     4.000000   251.000000  4105.000000   \n",
       "50%     127.000000   38.000000     5.000000   715.000000  4656.000000   \n",
       "75%     157.000000   74.500000     6.000000  1018.000000  5301.000000   \n",
       "max     500.000000  291.000000    14.000000  9106.000000  7993.000000   \n",
       "\n",
       "       price_change_pct         price  \n",
       "count       1013.000000  1.173000e+03  \n",
       "mean           8.883514  5.728539e+06  \n",
       "std            9.621403  2.330008e+06  \n",
       "min          -16.000000  1.450000e+06  \n",
       "25%            2.000000  4.070000e+06  \n",
       "50%            8.000000  5.450000e+06  \n",
       "75%           15.000000  7.000000e+06  \n",
       "max           57.000000  2.117500e+07  "
      ]
     },
     "execution_count": 4,
     "metadata": {},
     "output_type": "execute_result"
    }
   ],
   "source": [
    "#describe the features to get a feel for the data\n",
    "df.describe()"
   ]
  },
  {
   "cell_type": "code",
   "execution_count": 5,
   "metadata": {},
   "outputs": [
    {
     "data": {
      "text/plain": [
       "house_type          1173\n",
       "address             1172\n",
       "region              1162\n",
       "area                1161\n",
       "sup_area             615\n",
       "rooms               1154\n",
       "land_area            915\n",
       "monthly_fee          248\n",
       "date_sold           1173\n",
       "broker              1173\n",
       "price_change_pct    1013\n",
       "price               1173\n",
       "dtype: int64"
      ]
     },
     "execution_count": 5,
     "metadata": {},
     "output_type": "execute_result"
    }
   ],
   "source": [
    "df.count()"
   ]
  },
  {
   "cell_type": "markdown",
   "metadata": {},
   "source": [
    "We have a lot of missing values, some bad data, and a few unneccessary columns\n",
    "\n",
    "- **Unnamed:** just an index column\n",
    "    - id: we really dont need this for later, but for now, rename so we can use it to easily remove unique items \n",
    "\n",
    "- **house_type:** type of house\n",
    "    - category: Villa/Radhus\n",
    "\n",
    "- **address:** address of sold house\n",
    "    - string value\n",
    "    - one missing value\n",
    "    - also noticed on inspection some weird values like \"inställd\"\n",
    "\n",
    "- **region:** region where the house is \n",
    "    - category\n",
    "    - this data is messy, need to consolidate to fewer regions\n",
    "    - missing values can be inferred from address\n",
    "\n",
    "- **area:** house area in sq metres\n",
    "    - numeric, continuous\n",
    "    - some missing values, seems like an important feature so may scrap rows with missing values\n",
    "\n",
    "- **sup_area:** auxiliary area in sq metres\n",
    "    - numeric, continuous\n",
    "    - some missing values, these should probably be 0\n",
    "\n",
    "- **rooms:** # rooms in the house\n",
    "    - numeric, discrete\n",
    "    - some missing values, maybe we can estimate from area\n",
    "\n",
    "- **land_area:** land area in sq metres\n",
    "    - numeric, continuous\n",
    "    - some missing values, only houses with no listing_fee seem to have values which makes sense since you don't own the property when you have a monthly_fee (condominium), we can set this to 0 for now, but should probably categorize this\n",
    "\n",
    "- **listing_fee:** montly fee in kr (for condominium/bostadsrätt)\n",
    "    - numeric, contiuous\n",
    "    - some missing values, set to 0, this is normal, if it is not a condominium you dont have a listing fee, could be used to categorize though\n",
    "\n",
    "- **date_sold:** the date the house was sold\n",
    "    - date\n",
    "    - later we should probably split this up to see seasonality\n",
    "\n",
    "- **broker** the broker firm that sold the house\n",
    "    - string, category\n",
    "    - no missing values\n",
    "    - could be interesting to see if some broker firms have \"lockpriser\", i.e. if the sales price is much higher than the list price\n",
    "    - could also partially gleen from this if the house is new construction (but not for sure)\n",
    "\n",
    "- **price_change_pct:** how many percent this price went up or down from the listing price\n",
    "    - numeric, continuous\n",
    "    - pos/neg\n",
    "    - missing values are likely 0s\n",
    "\n",
    "- **price:** this is the price in thousand kr that the house sold for\n",
    "    - numeric, continuous\n",
    "    - no missing values\n",
    "    - this is our target value"
   ]
  },
  {
   "cell_type": "code",
   "execution_count": 6,
   "metadata": {},
   "outputs": [
    {
     "data": {
      "text/html": [
       "<div>\n",
       "<style>\n",
       "    .dataframe thead tr:only-child th {\n",
       "        text-align: right;\n",
       "    }\n",
       "\n",
       "    .dataframe thead th {\n",
       "        text-align: left;\n",
       "    }\n",
       "\n",
       "    .dataframe tbody tr th {\n",
       "        vertical-align: top;\n",
       "    }\n",
       "</style>\n",
       "<table border=\"1\" class=\"dataframe\">\n",
       "  <thead>\n",
       "    <tr style=\"text-align: right;\">\n",
       "      <th></th>\n",
       "      <th>house_type</th>\n",
       "      <th>address</th>\n",
       "      <th>region</th>\n",
       "      <th>area</th>\n",
       "      <th>sup_area</th>\n",
       "      <th>rooms</th>\n",
       "      <th>land_area</th>\n",
       "      <th>monthly_fee</th>\n",
       "      <th>date_sold</th>\n",
       "      <th>broker</th>\n",
       "      <th>price_change_pct</th>\n",
       "      <th>price</th>\n",
       "    </tr>\n",
       "  </thead>\n",
       "  <tbody>\n",
       "    <tr>\n",
       "      <th>0</th>\n",
       "      <td>Villa</td>\n",
       "      <td>Lilla Slingan 36</td>\n",
       "      <td>Viby</td>\n",
       "      <td>155.0</td>\n",
       "      <td>NaN</td>\n",
       "      <td>6.0</td>\n",
       "      <td>1232.0</td>\n",
       "      <td>NaN</td>\n",
       "      <td>2017-08-29</td>\n",
       "      <td>Fastighetsbyrån Sollentuna</td>\n",
       "      <td>3.0</td>\n",
       "      <td>7700000</td>\n",
       "    </tr>\n",
       "    <tr>\n",
       "      <th>1</th>\n",
       "      <td>Radhus</td>\n",
       "      <td>Fjärdingsmansvägen 186</td>\n",
       "      <td>Norrviken</td>\n",
       "      <td>107.0</td>\n",
       "      <td>10.0</td>\n",
       "      <td>5.0</td>\n",
       "      <td>208.0</td>\n",
       "      <td>NaN</td>\n",
       "      <td>2017-08-28</td>\n",
       "      <td>Bjurfors Sollentuna</td>\n",
       "      <td>11.0</td>\n",
       "      <td>4765000</td>\n",
       "    </tr>\n",
       "    <tr>\n",
       "      <th>2</th>\n",
       "      <td>Villa</td>\n",
       "      <td>Dianavägen 9</td>\n",
       "      <td>Edsviken</td>\n",
       "      <td>208.0</td>\n",
       "      <td>22.0</td>\n",
       "      <td>9.0</td>\n",
       "      <td>1003.0</td>\n",
       "      <td>NaN</td>\n",
       "      <td>2017-08-28</td>\n",
       "      <td>Susanne Persson Fastighetsförmedling AB</td>\n",
       "      <td>2.0</td>\n",
       "      <td>12700000</td>\n",
       "    </tr>\n",
       "    <tr>\n",
       "      <th>3</th>\n",
       "      <td>Villa</td>\n",
       "      <td>Strandpromenaden 9</td>\n",
       "      <td>Norrviken</td>\n",
       "      <td>190.0</td>\n",
       "      <td>103.0</td>\n",
       "      <td>8.0</td>\n",
       "      <td>1389.0</td>\n",
       "      <td>NaN</td>\n",
       "      <td>2017-08-25</td>\n",
       "      <td>Susanne Persson Fastighetsförmedling AB</td>\n",
       "      <td>12.0</td>\n",
       "      <td>12000000</td>\n",
       "    </tr>\n",
       "    <tr>\n",
       "      <th>4</th>\n",
       "      <td>Villa</td>\n",
       "      <td>Valkyrievägen 9</td>\n",
       "      <td>Edsviken</td>\n",
       "      <td>198.0</td>\n",
       "      <td>91.0</td>\n",
       "      <td>7.0</td>\n",
       "      <td>1160.0</td>\n",
       "      <td>NaN</td>\n",
       "      <td>2017-08-25</td>\n",
       "      <td>Susanne Persson Fastighetsförmedling AB</td>\n",
       "      <td>1.0</td>\n",
       "      <td>12100000</td>\n",
       "    </tr>\n",
       "  </tbody>\n",
       "</table>\n",
       "</div>"
      ],
      "text/plain": [
       "  house_type                 address     region   area  sup_area  rooms  \\\n",
       "0      Villa        Lilla Slingan 36       Viby  155.0       NaN    6.0   \n",
       "1     Radhus  Fjärdingsmansvägen 186  Norrviken  107.0      10.0    5.0   \n",
       "2      Villa            Dianavägen 9   Edsviken  208.0      22.0    9.0   \n",
       "3      Villa      Strandpromenaden 9  Norrviken  190.0     103.0    8.0   \n",
       "4      Villa         Valkyrievägen 9   Edsviken  198.0      91.0    7.0   \n",
       "\n",
       "   land_area  monthly_fee   date_sold  \\\n",
       "0     1232.0          NaN  2017-08-29   \n",
       "1      208.0          NaN  2017-08-28   \n",
       "2     1003.0          NaN  2017-08-28   \n",
       "3     1389.0          NaN  2017-08-25   \n",
       "4     1160.0          NaN  2017-08-25   \n",
       "\n",
       "                                    broker  price_change_pct     price  \n",
       "0               Fastighetsbyrån Sollentuna               3.0   7700000  \n",
       "1                      Bjurfors Sollentuna              11.0   4765000  \n",
       "2  Susanne Persson Fastighetsförmedling AB               2.0  12700000  \n",
       "3  Susanne Persson Fastighetsförmedling AB              12.0  12000000  \n",
       "4  Susanne Persson Fastighetsförmedling AB               1.0  12100000  "
      ]
     },
     "execution_count": 6,
     "metadata": {},
     "output_type": "execute_result"
    }
   ],
   "source": [
    "df.head(5)"
   ]
  },
  {
   "cell_type": "markdown",
   "metadata": {},
   "source": [
    "## Numeric values\n",
    "\n",
    "### Unnamed\n",
    "just an index column that we won't need, we could drop it, but for now, let's keep and rename to index"
   ]
  },
  {
   "cell_type": "code",
   "execution_count": 7,
   "metadata": {
    "collapsed": true
   },
   "outputs": [],
   "source": [
    "df.columns.values[0]='index'\n",
    "# IF WE WANTED TO DROP INSTEAD\n",
    "#df.drop(df.columns[[0]], axis=1, inplace=True)"
   ]
  },
  {
   "cell_type": "code",
   "execution_count": 8,
   "metadata": {},
   "outputs": [
    {
     "data": {
      "text/plain": [
       "index               1173\n",
       "address             1172\n",
       "region              1162\n",
       "area                1161\n",
       "sup_area             615\n",
       "rooms               1154\n",
       "land_area            915\n",
       "monthly_fee          248\n",
       "date_sold           1173\n",
       "broker              1173\n",
       "price_change_pct    1013\n",
       "price               1173\n",
       "dtype: int64"
      ]
     },
     "execution_count": 8,
     "metadata": {},
     "output_type": "execute_result"
    }
   ],
   "source": [
    "#look for missing values\n",
    "df.count()"
   ]
  },
  {
   "cell_type": "markdown",
   "metadata": {},
   "source": [
    "## Area\n",
    "The size of the house in square metres\n",
    "\n",
    "### Missing values\n",
    "Here we have a lot of missing values\n",
    "\n",
    "I suspect that the area is very relevant for the price.  And if we correlate the area to the price though we notice that there is a very strong positive correlation (i.e. the price is very very dependent on area) and we have nothing we can use to estimate it, so let's drop all the rows with null values"
   ]
  },
  {
   "cell_type": "code",
   "execution_count": 9,
   "metadata": {
    "collapsed": true
   },
   "outputs": [],
   "source": [
    "def scatter_vs_price(var):\n",
    "    data = pd.concat([df['price'], df[var]], axis=1)\n",
    "    data.plot.scatter(x=var, y='price', ylim=(0,25000000));\n",
    "    plt.show()"
   ]
  },
  {
   "cell_type": "code",
   "execution_count": 10,
   "metadata": {},
   "outputs": [
    {
     "data": {
      "image/png": "[encoded data removed]",
      "text/plain": [
       "<matplotlib.figure.Figure at 0x20494b6d160>"
      ]
     },
     "metadata": {},
     "output_type": "display_data"
    }
   ],
   "source": [
    "#show a scatterplot to see correlation\n",
    "scatter_vs_price('area')"
   ]
  },
  {
   "cell_type": "code",
   "execution_count": 11,
   "metadata": {
    "collapsed": true
   },
   "outputs": [],
   "source": [
    "#area has missing values, drop all rows without area - too important\n",
    "df = df.dropna(subset=['area'])"
   ]
  },
  {
   "cell_type": "markdown",
   "metadata": {},
   "source": [
    "### Outliers\n",
    "\n",
    "Actually, there are some outliers too (500 sqm), we need to investigate this more"
   ]
  },
  {
   "cell_type": "code",
   "execution_count": null,
   "metadata": {},
   "outputs": [
    {
     "data": {
      "image/png": "[encoded data removed]",
      "text/plain": [
       "<matplotlib.figure.Figure at 0x20494f68c88>"
      ]
     },
     "metadata": {},
     "output_type": "display_data"
    }
   ],
   "source": [
    "plt.boxplot(df['area'], 0, 'rD')\n",
    "plt.show()"
   ]
  },
  {
   "cell_type": "code",
   "execution_count": null,
   "metadata": {},
   "outputs": [],
   "source": [
    "df[df.area > 450]"
   ]
  },
  {
   "cell_type": "markdown",
   "metadata": {},
   "source": [
    "This sale is odd (not representative) so it will skew our data.  A house in Edsviken (most expensive area in Sollentuna) that is 500 sq m (very large) and has 14 rooms, should have been around 14-15 million.  We can see that it went down a whole 9% from its listing price - so they thought it was worth 14.5 million too - something is very wrong here, so let's remove it"
   ]
  },
  {
   "cell_type": "code",
   "execution_count": null,
   "metadata": {
    "collapsed": true
   },
   "outputs": [],
   "source": [
    "#remove any rows with area above 450\n",
    "df = df[df.area < 450]"
   ]
  },
  {
   "cell_type": "code",
   "execution_count": null,
   "metadata": {},
   "outputs": [],
   "source": [
    "scatter_vs_price('area')"
   ]
  },
  {
   "cell_type": "markdown",
   "metadata": {},
   "source": [
    "## Sup_Area\n",
    "\n",
    "This is the auxilliary area in sq metres - i.e. the \"biarea\" - area that can't be counted as main area because it is too far away from a window.  Typically this is worth a little less than \"real\" area but should still correlate well with price.\n",
    "\n",
    "### Missing values\n",
    "\n",
    "It is normal for this to have missing values (for houses with no basement or sub-terranian area).  Any missing values can be replaced with 0s"
   ]
  },
  {
   "cell_type": "code",
   "execution_count": null,
   "metadata": {
    "collapsed": true
   },
   "outputs": [],
   "source": [
    "#missing sup_are should have sup_area = 0\n",
    "df['sup_area'].fillna(0, inplace=True)"
   ]
  },
  {
   "cell_type": "code",
   "execution_count": null,
   "metadata": {},
   "outputs": [],
   "source": [
    "scatter_vs_price('sup_area')"
   ]
  },
  {
   "cell_type": "markdown",
   "metadata": {},
   "source": [
    "### Outliers\n",
    "\n",
    "Here we have some outliers too that we should check out.  Unless you have a gigantic house, it is weird to have that much aux area"
   ]
  },
  {
   "cell_type": "code",
   "execution_count": null,
   "metadata": {},
   "outputs": [],
   "source": [
    "plt.boxplot(df['sup_area'], 0, 'rD')\n",
    "plt.show()"
   ]
  },
  {
   "cell_type": "code",
   "execution_count": null,
   "metadata": {},
   "outputs": [],
   "source": [
    "df[df.sup_area > 200]"
   ]
  },
  {
   "cell_type": "markdown",
   "metadata": {},
   "source": [
    "Not exactly sure what is going on here... the houses seem gigantic and the total area doesn't seem to match the street view in maps, but we'll leave them for now and see if they are really outliers later (may combine area + sub_area) "
   ]
  },
  {
   "cell_type": "markdown",
   "metadata": {},
   "source": [
    "## Monthly_fee (Bostadsrättsavgift)\n",
    "\n",
    "Monthly fee in kr\n",
    "\n",
    "### Missing Values\n",
    "\n",
    "Not having a monthly fee is normal, montly fees only apply to bostadsrätt so we can safely set nulls to 0"
   ]
  },
  {
   "cell_type": "code",
   "execution_count": null,
   "metadata": {
    "collapsed": true
   },
   "outputs": [],
   "source": [
    "#missing listing_fee is normal - set to 0\n",
    "df['monthly_fee'].fillna(0, inplace=True)"
   ]
  },
  {
   "cell_type": "code",
   "execution_count": null,
   "metadata": {},
   "outputs": [],
   "source": [
    "scatter_vs_price('monthly_fee')"
   ]
  },
  {
   "cell_type": "markdown",
   "metadata": {},
   "source": [
    "### Outliers\n",
    "\n",
    "We don't seem to have any outliers per see, but we do have an interesting situation (and I could have predicted this \"by hand\")\n",
    "Houses that have a montly fee, i.e. houses that you don't fully own, go for a lot less than property you own. \n",
    "\n",
    "There is such a big distinction that we should probably separate them out completely later and do two different models\n",
    "\n",
    "In fact, let's create a new column called is_condo based on this"
   ]
  },
  {
   "cell_type": "code",
   "execution_count": null,
   "metadata": {
    "collapsed": true
   },
   "outputs": [],
   "source": [
    "df['is_condo'] = df['monthly_fee'].apply(lambda fee: 0 if fee == 0 else 1)"
   ]
  },
  {
   "cell_type": "markdown",
   "metadata": {},
   "source": [
    "## Price_change_pct\n",
    "\n",
    "This is the % the price went up or down compared to the listing price.  It will be interesting to see how this fluctuates over time later.\n",
    "\n",
    "### Missing \n",
    "\n",
    "Any missing values means that it sold for the listing price, so we can safely set missing to 0"
   ]
  },
  {
   "cell_type": "code",
   "execution_count": null,
   "metadata": {
    "collapsed": true
   },
   "outputs": [],
   "source": [
    "#missing price_change_pct means no change = 0\n",
    "df['price_change_pct'].fillna(0, inplace=True)"
   ]
  },
  {
   "cell_type": "code",
   "execution_count": null,
   "metadata": {},
   "outputs": [],
   "source": [
    "scatter_vs_price('price_change_pct')"
   ]
  },
  {
   "cell_type": "markdown",
   "metadata": {},
   "source": [
    "It looks like there is literally no correlation between the price and how much it went up or down. It's all over the place.\n",
    "\n",
    "We may just remove this feature... but I want to keep it until we start investigating the values to see if there is a year on year correlation... \n",
    "\n",
    "And I am very curious about the ones where the price went up significantly, so let's just list the ones that went up more than 35%"
   ]
  },
  {
   "cell_type": "code",
   "execution_count": null,
   "metadata": {},
   "outputs": [],
   "source": [
    "df[df.price_change_pct > 35]"
   ]
  },
  {
   "cell_type": "markdown",
   "metadata": {},
   "source": [
    "Can't find a pattern right now, but let's keep it for later\n",
    "\n",
    "## Land_area\n",
    "\n",
    "This is the number of sq metres of land that comes with the property\n",
    "\n",
    "Let's first scatter this for all non-empty values"
   ]
  },
  {
   "cell_type": "code",
   "execution_count": null,
   "metadata": {},
   "outputs": [],
   "source": [
    "scatter_vs_price('land_area')"
   ]
  },
  {
   "cell_type": "markdown",
   "metadata": {},
   "source": [
    "it actually seems to have a nice correlation with the price, except for a couple of weird things\n",
    "\n",
    "1. some values around 3000 square metres that don't follow the correlation\n",
    "2. a massive outlier at around 9500 metres... that is probably some type of agricultural property. Way out of the norm so it will likely skew our data and we should remove it. \n",
    "\n",
    "### Missing values\n",
    "\n",
    "Missing values here mean that we don't own the property... we can set this to 0, but... we should really separate the ones with listing_fee into a separate model"
   ]
  },
  {
   "cell_type": "code",
   "execution_count": null,
   "metadata": {
    "collapsed": true
   },
   "outputs": [],
   "source": [
    "#filling land_area with = seems legit\n",
    "df['land_area'].fillna(0, inplace=True)"
   ]
  },
  {
   "cell_type": "markdown",
   "metadata": {},
   "source": [
    "### Outliers\n",
    "\n",
    "Ok, let's check out the weird properties... we can list anything with a land area over 2800 maybe"
   ]
  },
  {
   "cell_type": "code",
   "execution_count": null,
   "metadata": {},
   "outputs": [],
   "source": [
    "df[df.land_area > 2800]"
   ]
  },
  {
   "cell_type": "markdown",
   "metadata": {},
   "source": [
    "The top one [125] and the bottom 2 [675, 1152] are obviously sold for land value (fairly low prices and small houses given the land)\n",
    "\n",
    "The other 2 are really nice large \"luxury\" houses with large grounds \n",
    "    [357] is right on the lake with it's own boat dock \n",
    "    [418] has a large pool \n",
    "(we can see that on sattelite maps)\n",
    "\n",
    "We may need to either \n",
    "    A. gather that type of data later since it will probably be significant for the price or \n",
    "    B. remove really expensive houses... but we'll look at that later\n",
    "\n",
    "For now we remove the properties we suspect are sold for land value"
   ]
  },
  {
   "cell_type": "code",
   "execution_count": null,
   "metadata": {
    "collapsed": true
   },
   "outputs": [],
   "source": [
    "df = df[df['index'].isin([125,675,1152]) == False]"
   ]
  },
  {
   "cell_type": "code",
   "execution_count": null,
   "metadata": {},
   "outputs": [],
   "source": [
    "df[df.land_area > 2800]"
   ]
  },
  {
   "cell_type": "code",
   "execution_count": null,
   "metadata": {},
   "outputs": [],
   "source": [
    "# let's just scatter it again\n",
    "scatter_vs_price('land_area')"
   ]
  },
  {
   "cell_type": "markdown",
   "metadata": {},
   "source": [
    "## Rooms\n",
    "\n",
    "The number of rooms in the house. While it is kinda a continuous number it is actually more discrete so scatter plots will look a bit funky."
   ]
  },
  {
   "cell_type": "code",
   "execution_count": null,
   "metadata": {},
   "outputs": [],
   "source": [
    "scatter_vs_price('rooms')"
   ]
  },
  {
   "cell_type": "markdown",
   "metadata": {},
   "source": [
    "The number of rooms correlate nicely with price except for the houses that are over 20 million... we'll see... maybe we'll eventually remove those houses... when houses get that expensive they seem to follow other critierias  (i'm guessing they are probably all by the lake)\n",
    "\n",
    "Let's ignore them for now\n",
    "\n",
    "### Missing values\n",
    "\n",
    "We do have a bunch of missing values though so let's investigate them"
   ]
  },
  {
   "cell_type": "code",
   "execution_count": null,
   "metadata": {},
   "outputs": [],
   "source": [
    "#what's up with the NaN rooms?\n",
    "df[pd.isnull(df['rooms'])]"
   ]
  },
  {
   "cell_type": "code",
   "execution_count": null,
   "metadata": {},
   "outputs": [],
   "source": [
    "#let's look at room distribution to see if we can figure out approx how many rooms they should have \n",
    "#scatter plot grlivarea/saleprice\n",
    "data = pd.concat([df['rooms'], df['area']], axis=1)\n",
    "data.plot.scatter(x='area', y='rooms', ylim=(0,15))\n",
    "plt.show()"
   ]
  },
  {
   "cell_type": "markdown",
   "metadata": {},
   "source": [
    "The correlation is very high, but still hard to make out how many sq metres an average room is.\n",
    "Let's do something a little different... \n",
    "\n",
    "I wonder if we get an even higher correlation if we look at the total_area = area + sup_area"
   ]
  },
  {
   "cell_type": "code",
   "execution_count": null,
   "metadata": {
    "collapsed": true
   },
   "outputs": [],
   "source": [
    "# let's add a new column that is the sum of the area and the sup_area\n",
    "df['total_area'] = df.apply(lambda row: row['area'] + row['sup_area'], axis=1)"
   ]
  },
  {
   "cell_type": "code",
   "execution_count": null,
   "metadata": {},
   "outputs": [],
   "source": [
    "# ...and then we can look at that scatter plot\n",
    "data = pd.concat([df['rooms'], df['total_area']], axis=1)\n",
    "data.plot.scatter(x='total_area', y='rooms', ylim=(0,15))\n",
    "plt.show()"
   ]
  },
  {
   "cell_type": "markdown",
   "metadata": {},
   "source": [
    "meh... but... take a look at that **outlier** almost 600 sq metres, that's a huge house"
   ]
  },
  {
   "cell_type": "code",
   "execution_count": null,
   "metadata": {},
   "outputs": [],
   "source": [
    "df[df.total_area > 500]"
   ]
  },
  {
   "cell_type": "markdown",
   "metadata": {},
   "source": [
    "let's scatter that against the price to see if it is behaving weirdly"
   ]
  },
  {
   "cell_type": "code",
   "execution_count": null,
   "metadata": {},
   "outputs": [],
   "source": [
    "scatter_vs_price('total_area')"
   ]
  },
  {
   "cell_type": "code",
   "execution_count": null,
   "metadata": {},
   "outputs": [],
   "source": [
    "plt.boxplot(df['total_area'], 0, 'rD')\n",
    "plt.show()"
   ]
  },
  {
   "cell_type": "markdown",
   "metadata": {},
   "source": [
    "may as well remove it, it is just way off"
   ]
  },
  {
   "cell_type": "code",
   "execution_count": null,
   "metadata": {
    "collapsed": true
   },
   "outputs": [],
   "source": [
    "df = df[df.total_area < 500]"
   ]
  },
  {
   "cell_type": "markdown",
   "metadata": {},
   "source": [
    "ok, back to the missing values in the room column\n",
    "\n",
    "one thing we could do is just copy the # of rooms of the houses with the closest total area"
   ]
  },
  {
   "cell_type": "code",
   "execution_count": null,
   "metadata": {},
   "outputs": [],
   "source": [
    "#very high linear corr - let's sort by total_area and fill with prev number\n",
    "df.sort_values(by=['total_area', 'area'], inplace=True)\n",
    "df['rooms'].fillna(method='pad', inplace=True)\n",
    "df.head(5)"
   ]
  },
  {
   "cell_type": "markdown",
   "metadata": {},
   "source": [
    "oki, I think we're done with the numerical values... let's just check the counts"
   ]
  },
  {
   "cell_type": "code",
   "execution_count": null,
   "metadata": {},
   "outputs": [],
   "source": [
    "df.count()"
   ]
  },
  {
   "cell_type": "markdown",
   "metadata": {},
   "source": [
    "And just a quick peak at the histograms"
   ]
  },
  {
   "cell_type": "code",
   "execution_count": null,
   "metadata": {},
   "outputs": [],
   "source": [
    "#we're done with the numerical values, let's check the histograms\n",
    "df.hist()\n",
    "plt.show()"
   ]
  },
  {
   "cell_type": "markdown",
   "metadata": {},
   "source": [
    "# Categorical Values\n",
    "\n",
    "## House_Type\n",
    "\n",
    "The house type is either \"Villa\" = Detached House or \"Radhus\" = Townhome \n",
    "and we have no null values."
   ]
  },
  {
   "cell_type": "code",
   "execution_count": null,
   "metadata": {},
   "outputs": [],
   "source": [
    "df['house_type'].describe()"
   ]
  },
  {
   "cell_type": "code",
   "execution_count": null,
   "metadata": {},
   "outputs": [],
   "source": [
    "df.house_type.unique()"
   ]
  },
  {
   "cell_type": "code",
   "execution_count": null,
   "metadata": {},
   "outputs": [],
   "source": [
    "counts = df['house_type'].value_counts()\n",
    "counts"
   ]
  },
  {
   "cell_type": "code",
   "execution_count": null,
   "metadata": {},
   "outputs": [],
   "source": [
    "fig, ax = plt.subplots()\n",
    "df['house_type'].value_counts().plot(ax=ax, kind='bar')\n",
    "plt.show()"
   ]
  },
  {
   "cell_type": "markdown",
   "metadata": {
    "collapsed": true
   },
   "source": [
    "## Region\n",
    "\n",
    "Region is a total mess"
   ]
  },
  {
   "cell_type": "code",
   "execution_count": null,
   "metadata": {},
   "outputs": [],
   "source": [
    "df['region'].describe()"
   ]
  },
  {
   "cell_type": "code",
   "execution_count": null,
   "metadata": {},
   "outputs": [],
   "source": [
    "df.region.unique()"
   ]
  },
  {
   "cell_type": "code",
   "execution_count": null,
   "metadata": {},
   "outputs": [],
   "source": [
    "counts = df['region'].value_counts()\n",
    "counts"
   ]
  },
  {
   "cell_type": "markdown",
   "metadata": {},
   "source": [
    "We have 67 different regions... lots of them with only one house sale\n",
    "\n",
    "We need to consolidate these regions - Östra Viby should be renamed Viby, and all the Gillbo entries are in Rotebro etc.\n",
    "(Most of the regions I can map because I live here, and for the rest I use a map and check the location)\n",
    "\n",
    "I decided to \"bin\" them into 20 different regions. May consolidate a few later or even split them out"
   ]
  },
  {
   "cell_type": "code",
   "execution_count": 1,
   "metadata": {},
   "outputs": [],
   "source": [
    "def Clean_Region(region):\n",
    "    if \"Rotsunda\" in region:\n",
    "        return \"Rotsunda\"\n",
    "    elif \"Rotebro\" in region or \"Gillbo\" in region or \"Gillberga\" in region:\n",
    "        return \"Rotebro\"\n",
    "    elif \"Norrviken\" in region:\n",
    "        return \"Norrviken\"\n",
    "    elif \"Viby\" in region:\n",
    "        return \"Viby\"\n",
    "    elif \"Törnskogen\" in region or \"Solängen\" in region or \"Väsjön\" in region or \"Vaxmora\" in region or \"Waxmora\" in region or \"Södersättra\" in region:\n",
    "        return \"Törnskogen\"\n",
    "    elif \"Edsberg\" in region or \"Tunberget\" in region or \"Edsängen\" in region:\n",
    "        return \"Edsberg\"\n",
    "    elif \"Kvarnskogen\" in region:\n",
    "        return \"Kvarnskogen\"\n",
    "    elif \"Landsnora\" in region:\n",
    "        return \"Landsnora\"\n",
    "    elif \"Falkberget\" in region:\n",
    "        return \"Falkberget\"\n",
    "    elif \"Kärrdal\" in region:\n",
    "        return \"Kärrdal\"\n",
    "    elif \"Sjöberg\" in region:\n",
    "        return \"Sjöberg\"\n",
    "    elif \"Edsviken\" in region:\n",
    "        return \"Edsviken\"\n",
    "    elif \"Edsbacka\" in region or \"Tureberg\" in region:\n",
    "        return \"Tureberg\"\n",
    "    elif \"Skälby\" in region or \"Häggvik\" in region:\n",
    "        return \"Häggvik\"\n",
    "    elif \"Töjnan\" in region or \"Hästhagen\" in region:\n",
    "        return \"Töjnan\"\n",
    "    elif \"Fågelsången\" in region:\n",
    "        return \"Fågelsången\"\n",
    "    elif \"Helenelund\" in region:\n",
    "        return \"Helenelund\"\n",
    "    elif \"Tegelhagen\" in region:\n",
    "        return \"Tegelhagen\"\n",
    "    elif \"Silverdal\" in region:\n",
    "        return \"Silverdal\"\n",
    "    elif \"Sollentuna\" in region or \"SOLLENTUNA\" in region:\n",
    "        return \"Sollentuna Centrum\"\n",
    "    else:\n",
    "        return None"
   ]
  },
  {
   "cell_type": "code",
   "execution_count": null,
   "metadata": {
    "collapsed": true
   },
   "outputs": [],
   "source": [
    "df['region'].fillna(\"UNKNOWN\", inplace=True)"
   ]
  },
  {
   "cell_type": "code",
   "execution_count": null,
   "metadata": {
    "collapsed": true
   },
   "outputs": [],
   "source": [
    "df['clean_region'] = df.apply(lambda row: Clean_Region(row['region']), axis=1)"
   ]
  },
  {
   "cell_type": "code",
   "execution_count": null,
   "metadata": {},
   "outputs": [],
   "source": [
    "df.head(5)"
   ]
  },
  {
   "cell_type": "code",
   "execution_count": null,
   "metadata": {},
   "outputs": [],
   "source": [
    "counts = df['clean_region'].value_counts()\n",
    "counts"
   ]
  },
  {
   "cell_type": "code",
   "execution_count": null,
   "metadata": {},
   "outputs": [],
   "source": [
    "df['clean_region'].describe()"
   ]
  },
  {
   "cell_type": "markdown",
   "metadata": {},
   "source": [
    "### Missing values\n",
    "\n",
    "There are actually quite a few missing values here, but given the address we can manually map them"
   ]
  },
  {
   "cell_type": "code",
   "execution_count": null,
   "metadata": {},
   "outputs": [],
   "source": [
    "#missing regions\n",
    "df[pd.isnull(df['clean_region'])]"
   ]
  },
  {
   "cell_type": "code",
   "execution_count": null,
   "metadata": {
    "collapsed": true
   },
   "outputs": [],
   "source": [
    "df.loc[df['address'] == \"Rösjövägen 86\", \"clean_region\"] = \"Rösjön\"\n",
    "df.loc[df['address'] == \"Limavägen 3\", \"clean_region\"] = \"Norrviken\"\n",
    "df.loc[df['address'] == \"Kantorsgränd 6\", \"clean_region\"] = \"Norrviken\"\n",
    "df.loc[df['address'] == \"Hedemoravägen 107\", \"clean_region\"] = \"Viby\"\n",
    "df.loc[df['address'] == \"Lomvägen 187\", \"clean_region\"] = \"Kärrdal\"\n",
    "df.loc[df['address'] == \"Grönanvägen 2\", \"clean_region\"] = \"Törnskogen\"\n",
    "df.loc[df['address'] == \"Malungsvägen 275\", \"clean_region\"] = \"Viby\"\n",
    "df.loc[df['address'] == \"Lilla Slingan 10\", \"clean_region\"] = \"Viby\"\n",
    "df.loc[df['address'] == \"Holmbodavägen 19\", \"clean_region\"] = \"Rotebro\"\n",
    "df.loc[df['address'] == \"Skillingevägen 10A\", \"clean_region\"] = \"Viby\"\n",
    "df.loc[df['address'] == \"Falkbergsvägen 6\", \"clean_region\"] = \"Landsnora\"\n",
    "df.loc[df['address'] == \"Eriksbergsvägen 24B\", \"clean_region\"] = \"Fågelsången\""
   ]
  },
  {
   "cell_type": "markdown",
   "metadata": {},
   "source": [
    "Now we have no missing regions"
   ]
  },
  {
   "cell_type": "code",
   "execution_count": null,
   "metadata": {},
   "outputs": [],
   "source": [
    "df['clean_region'].describe()"
   ]
  },
  {
   "cell_type": "code",
   "execution_count": null,
   "metadata": {},
   "outputs": [],
   "source": [
    "counts = df['clean_region'].value_counts()\n",
    "counts"
   ]
  },
  {
   "cell_type": "code",
   "execution_count": null,
   "metadata": {},
   "outputs": [],
   "source": [
    "fig, ax = plt.subplots()\n",
    "df['clean_region'].value_counts().plot(ax=ax, kind='bar')\n",
    "plt.show()"
   ]
  },
  {
   "cell_type": "markdown",
   "metadata": {},
   "source": [
    "Given how few samples we have for Falkberget for example, this will really skew things... we might move that one to Kärrdal (closest)\n",
    "\n",
    "But... now we're done and can drop the region column"
   ]
  },
  {
   "cell_type": "code",
   "execution_count": null,
   "metadata": {
    "collapsed": true
   },
   "outputs": [],
   "source": [
    "#drop the region column\n",
    "del df['region']"
   ]
  },
  {
   "cell_type": "markdown",
   "metadata": {},
   "source": [
    "## Address\n",
    "\n",
    "The address may be a really useful column for if we want to gather more data.  Like how close it is to a lake or the town center.  \n",
    "\n",
    "For prediction purposes though it will be pretty useless since it is rather unique\n",
    "\n",
    "### Missing values\n",
    "\n",
    "We can choose to keep the one item with missing address (since it wont matter for prediction)\n",
    "If we need to consolidate with other data sources we might drop the row with null values though... \n",
    "\n",
    "### Potential Feature Engineering\n",
    "\n",
    "One interesting thing we could do here is to split out the streetname - won't do this now, but that could help us later"
   ]
  },
  {
   "cell_type": "code",
   "execution_count": null,
   "metadata": {
    "collapsed": true
   },
   "outputs": [],
   "source": [
    "#df[pd.isnull(df['address'])]"
   ]
  },
  {
   "cell_type": "code",
   "execution_count": null,
   "metadata": {
    "collapsed": true
   },
   "outputs": [],
   "source": [
    "# we could drop the empty address row\n",
    "#df = df.dropna(subset=['address'])"
   ]
  },
  {
   "cell_type": "markdown",
   "metadata": {},
   "source": [
    "## date_sold\n",
    "\n",
    "This is the date the house was sold...\n",
    "\n",
    "I have some ideas that the price may vary on \n",
    "\n",
    "1. how long ago the house was sold \n",
    "2. what time of year (summer, winter, before vacation etc.)\n",
    "    \n",
    "We could potentially also correlate by date to \n",
    "\n",
    "1. interest rates\n",
    "2. before or after the requirement to pay off your debt (not just interest) - June 1, 2016\n",
    "\n",
    "The date can also be used to identify the sale in the taxation data from Skatteverket\n",
    "\n",
    "### Missing values\n",
    "\n",
    "No missing values\n",
    "\n",
    "### Feature engineering\n",
    "\n",
    "For now, let's keep the date but also\n",
    "1. extract the year\n",
    "2. extract the month\n",
    "\n",
    "later on we should probably add a column for after_amort (after the amortization law)"
   ]
  },
  {
   "cell_type": "code",
   "execution_count": null,
   "metadata": {
    "collapsed": true
   },
   "outputs": [],
   "source": [
    "df['date_sold'] = pd.to_datetime(df['date_sold'])\n",
    "df['year'] = df['date_sold'].dt.year\n",
    "df['month'] = df['date_sold'].dt.month"
   ]
  },
  {
   "cell_type": "code",
   "execution_count": null,
   "metadata": {},
   "outputs": [],
   "source": [
    "fig, ax = plt.subplots()\n",
    "df['year'].value_counts().plot(ax=ax, kind='bar')\n",
    "plt.show()"
   ]
  },
  {
   "cell_type": "code",
   "execution_count": null,
   "metadata": {},
   "outputs": [],
   "source": [
    "fig, ax = plt.subplots()\n",
    "df['month'].value_counts().plot(ax=ax, kind='bar')\n",
    "plt.show()"
   ]
  },
  {
   "cell_type": "markdown",
   "metadata": {},
   "source": [
    "We have a definite seasonality here... most houses are sold in \n",
    "\n",
    "- spring/summer [April,May,June] peaking in May (people start wanting a bigger yard etc.) and \n",
    "- autum [September, October] (when things are pretty calm)\n",
    "\n",
    "christmas [December] and middle of summer vacation [July] are low times... will be interesting to see how that affects price\n",
    "\n",
    "## broker\n",
    "\n",
    "Brokers like to \"up-play\" their importantce for the sale IMHO... will be interesting to see how relevant they really are. \n",
    "And also to check if there is a correlation between broker and how much the price goes up/down from listing... are some brokers setting the listing price low to \"suck you in\""
   ]
  },
  {
   "cell_type": "code",
   "execution_count": null,
   "metadata": {},
   "outputs": [],
   "source": [
    "df['broker'].describe()"
   ]
  },
  {
   "cell_type": "code",
   "execution_count": null,
   "metadata": {},
   "outputs": [],
   "source": [
    "counts = df['broker'].value_counts()\n",
    "counts"
   ]
  },
  {
   "cell_type": "markdown",
   "metadata": {},
   "source": [
    "we have too many differnet ones though... let's remove the city part from the names (since it's the same broker, just different location)"
   ]
  },
  {
   "cell_type": "code",
   "execution_count": null,
   "metadata": {
    "collapsed": true
   },
   "outputs": [],
   "source": [
    "df['clean_broker'] = df.apply(lambda row: row['broker'].replace(\"i Sollentuna\", \"\").replace(\"Sollentuna\", \"\").replace(\"Vallentuna\", \"\").replace(\"Täby\", \"\").replace(\"Upplands Väsby\", \"\").replace(\"Vällingby-Hässelby\", \"\").replace(\"Stockholm Innerstan\", \"\").replace(\"Roslagen\", \"\").strip(), axis=1)"
   ]
  },
  {
   "cell_type": "code",
   "execution_count": null,
   "metadata": {},
   "outputs": [],
   "source": [
    "fig, ax = plt.subplots()\n",
    "df['clean_broker'].value_counts().plot(ax=ax, kind='bar')\n",
    "plt.show()"
   ]
  },
  {
   "cell_type": "code",
   "execution_count": null,
   "metadata": {
    "collapsed": true
   },
   "outputs": [],
   "source": [
    "#drop the broker column\n",
    "df.drop(df.columns[[9]], axis=1, inplace=True)"
   ]
  },
  {
   "cell_type": "markdown",
   "metadata": {},
   "source": [
    "And we are done cleaning all the features"
   ]
  },
  {
   "cell_type": "code",
   "execution_count": null,
   "metadata": {},
   "outputs": [],
   "source": [
    "df.count()"
   ]
  },
  {
   "cell_type": "markdown",
   "metadata": {},
   "source": [
    "## price\n",
    "\n",
    "finally, let's have a look at the sales price (in kr)"
   ]
  },
  {
   "cell_type": "code",
   "execution_count": null,
   "metadata": {},
   "outputs": [],
   "source": [
    "df['price'].describe()"
   ]
  },
  {
   "cell_type": "markdown",
   "metadata": {},
   "source": [
    "Let's turn it into kkr (thousands of kr) to make it easier to read"
   ]
  },
  {
   "cell_type": "code",
   "execution_count": null,
   "metadata": {
    "collapsed": true
   },
   "outputs": [],
   "source": [
    "df['price'] = df.apply(lambda row: row.price/1000, axis=1)"
   ]
  },
  {
   "cell_type": "code",
   "execution_count": null,
   "metadata": {},
   "outputs": [],
   "source": [
    "#histogram\n",
    "sns.distplot(df['price']);\n",
    "plt.show()"
   ]
  },
  {
   "cell_type": "markdown",
   "metadata": {},
   "source": [
    "We'll explore it more in the data exploration part - for now it is enough to know that we have all the values"
   ]
  },
  {
   "cell_type": "code",
   "execution_count": null,
   "metadata": {},
   "outputs": [],
   "source": [
    "plt.boxplot(df['price'], 0, 'rD')\n",
    "plt.show()"
   ]
  },
  {
   "cell_type": "markdown",
   "metadata": {},
   "source": [
    "### outliers\n",
    "We have a few houses that really stand out (the ones over 20 mill) - let's remove them since very few houses in this area will have that price"
   ]
  },
  {
   "cell_type": "code",
   "execution_count": null,
   "metadata": {
    "collapsed": true
   },
   "outputs": [],
   "source": [
    "df = df[df.price < 20000]"
   ]
  },
  {
   "cell_type": "code",
   "execution_count": null,
   "metadata": {
    "collapsed": true
   },
   "outputs": [],
   "source": [
    "#drop the index column\n",
    "try:\n",
    "    del df['index']\n",
    "except:\n",
    "    pass"
   ]
  },
  {
   "cell_type": "markdown",
   "metadata": {},
   "source": [
    "rename clean_region to region and clean_broker to broker"
   ]
  },
  {
   "cell_type": "code",
   "execution_count": null,
   "metadata": {},
   "outputs": [],
   "source": [
    "df.columns.values[12]='region'\n",
    "df.columns.values[15]='broker'\n",
    "df.head(5)"
   ]
  },
  {
   "cell_type": "markdown",
   "metadata": {},
   "source": [
    "Finally, lets just save the clean data"
   ]
  },
  {
   "cell_type": "code",
   "execution_count": null,
   "metadata": {
    "collapsed": true
   },
   "outputs": [],
   "source": [
    "df.to_csv('../data/170829/cleanhouses.csv')"
   ]
  },
  {
   "cell_type": "code",
   "execution_count": null,
   "metadata": {
    "collapsed": true
   },
   "outputs": [],
   "source": []
  }
 ],
 "metadata": {
  "kernelspec": {
   "display_name": "Python 3",
   "language": "python",
   "name": "python3"
  },
  "language_info": {
   "codemirror_mode": {
    "name": "ipython",
    "version": 3
   },
   "file_extension": ".py",
   "mimetype": "text/x-python",
   "name": "python",
   "nbconvert_exporter": "python",
   "pygments_lexer": "ipython3",
   "version": "3.7.4"
  }
 },
 "nbformat": 4,
 "nbformat_minor": 2
}
