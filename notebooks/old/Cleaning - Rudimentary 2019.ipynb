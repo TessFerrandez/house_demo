{
 "cells": [
  {
   "cell_type": "code",
   "execution_count": 1,
   "metadata": {},
   "outputs": [],
   "source": [
    "import pandas as pd\n",
    "import numpy as np"
   ]
  },
  {
   "cell_type": "code",
   "execution_count": 2,
   "metadata": {},
   "outputs": [
    {
     "data": {
      "text/html": [
       "<div>\n",
       "<style scoped>\n",
       "    .dataframe tbody tr th:only-of-type {\n",
       "        vertical-align: middle;\n",
       "    }\n",
       "\n",
       "    .dataframe tbody tr th {\n",
       "        vertical-align: top;\n",
       "    }\n",
       "\n",
       "    .dataframe thead th {\n",
       "        text-align: right;\n",
       "    }\n",
       "</style>\n",
       "<table border=\"1\" class=\"dataframe\">\n",
       "  <thead>\n",
       "    <tr style=\"text-align: right;\">\n",
       "      <th></th>\n",
       "      <th>house_type</th>\n",
       "      <th>address</th>\n",
       "      <th>region</th>\n",
       "      <th>area</th>\n",
       "      <th>sup_area</th>\n",
       "      <th>rooms</th>\n",
       "      <th>land_area</th>\n",
       "      <th>monthly_fee</th>\n",
       "      <th>date_sold</th>\n",
       "      <th>broker</th>\n",
       "      <th>price_change_pct</th>\n",
       "      <th>price</th>\n",
       "    </tr>\n",
       "  </thead>\n",
       "  <tbody>\n",
       "    <tr>\n",
       "      <th>0</th>\n",
       "      <td>Villa</td>\n",
       "      <td>Kavallerivägen 20</td>\n",
       "      <td>Rotebro</td>\n",
       "      <td>127.0</td>\n",
       "      <td>77.0</td>\n",
       "      <td>6.0</td>\n",
       "      <td>919.0</td>\n",
       "      <td>NaN</td>\n",
       "      <td>2019-02-20</td>\n",
       "      <td>Fastighetsbyrån Sollentuna</td>\n",
       "      <td>-2.0</td>\n",
       "      <td>5200000.0</td>\n",
       "    </tr>\n",
       "    <tr>\n",
       "      <th>1</th>\n",
       "      <td>Radhus</td>\n",
       "      <td>Bäckvägen  7D</td>\n",
       "      <td>NaN</td>\n",
       "      <td>118.0</td>\n",
       "      <td>6.0</td>\n",
       "      <td>5.0</td>\n",
       "      <td>222.0</td>\n",
       "      <td>NaN</td>\n",
       "      <td>2019-02-16</td>\n",
       "      <td>Notar</td>\n",
       "      <td>16.0</td>\n",
       "      <td>4000000.0</td>\n",
       "    </tr>\n",
       "    <tr>\n",
       "      <th>2</th>\n",
       "      <td>Villa</td>\n",
       "      <td>Humlevägen  23</td>\n",
       "      <td>Viby</td>\n",
       "      <td>193.0</td>\n",
       "      <td>30.0</td>\n",
       "      <td>7.0</td>\n",
       "      <td>1086.0</td>\n",
       "      <td>NaN</td>\n",
       "      <td>2019-02-14</td>\n",
       "      <td>Länsförsäkringar Fastighetsförmedling Sollentuna</td>\n",
       "      <td>10.0</td>\n",
       "      <td>11850000.0</td>\n",
       "    </tr>\n",
       "    <tr>\n",
       "      <th>3</th>\n",
       "      <td>Villa</td>\n",
       "      <td>Steglitsvägen 5</td>\n",
       "      <td>Sjöberg</td>\n",
       "      <td>157.0</td>\n",
       "      <td>41.0</td>\n",
       "      <td>6.0</td>\n",
       "      <td>768.6</td>\n",
       "      <td>NaN</td>\n",
       "      <td>2019-02-11</td>\n",
       "      <td>Fastighetsbyrån Sollentuna</td>\n",
       "      <td>6.0</td>\n",
       "      <td>7300000.0</td>\n",
       "    </tr>\n",
       "    <tr>\n",
       "      <th>4</th>\n",
       "      <td>Radhus</td>\n",
       "      <td>Chaplins gränd 42</td>\n",
       "      <td>Gillbo</td>\n",
       "      <td>105.0</td>\n",
       "      <td>NaN</td>\n",
       "      <td>4.0</td>\n",
       "      <td>110.0</td>\n",
       "      <td>NaN</td>\n",
       "      <td>2019-02-07</td>\n",
       "      <td>Fastighetsbyrån Sollentuna</td>\n",
       "      <td>NaN</td>\n",
       "      <td>3995000.0</td>\n",
       "    </tr>\n",
       "  </tbody>\n",
       "</table>\n",
       "</div>"
      ],
      "text/plain": [
       "  house_type            address   region   area  sup_area  rooms  land_area  \\\n",
       "0      Villa  Kavallerivägen 20  Rotebro  127.0      77.0    6.0      919.0   \n",
       "1     Radhus      Bäckvägen  7D      NaN  118.0       6.0    5.0      222.0   \n",
       "2      Villa     Humlevägen  23     Viby  193.0      30.0    7.0     1086.0   \n",
       "3      Villa    Steglitsvägen 5  Sjöberg  157.0      41.0    6.0      768.6   \n",
       "4     Radhus  Chaplins gränd 42   Gillbo  105.0       NaN    4.0      110.0   \n",
       "\n",
       "   monthly_fee   date_sold                                            broker  \\\n",
       "0          NaN  2019-02-20                        Fastighetsbyrån Sollentuna   \n",
       "1          NaN  2019-02-16                                             Notar   \n",
       "2          NaN  2019-02-14  Länsförsäkringar Fastighetsförmedling Sollentuna   \n",
       "3          NaN  2019-02-11                        Fastighetsbyrån Sollentuna   \n",
       "4          NaN  2019-02-07                        Fastighetsbyrån Sollentuna   \n",
       "\n",
       "   price_change_pct       price  \n",
       "0              -2.0   5200000.0  \n",
       "1              16.0   4000000.0  \n",
       "2              10.0  11850000.0  \n",
       "3               6.0   7300000.0  \n",
       "4               NaN   3995000.0  "
      ]
     },
     "execution_count": 2,
     "metadata": {},
     "output_type": "execute_result"
    }
   ],
   "source": [
    "df = pd.read_csv('../data/houses/hemnet-190221.csv')\n",
    "df.head()"
   ]
  },
  {
   "cell_type": "code",
   "execution_count": 3,
   "metadata": {},
   "outputs": [
    {
     "data": {
      "text/plain": [
       "Radhus    807\n",
       "Villa     786\n",
       "Name: house_type, dtype: int64"
      ]
     },
     "execution_count": 3,
     "metadata": {},
     "output_type": "execute_result"
    }
   ],
   "source": [
    "df.house_type.value_counts()"
   ]
  },
  {
   "cell_type": "code",
   "execution_count": 4,
   "metadata": {},
   "outputs": [],
   "source": [
    "# CLEAN THE REGION\n",
    "\n",
    "df['region'] = df['region'].str.upper()\n",
    "df['region'] = np.where(df['region'].str.contains(\"VIBY\"), \"VIBY\", df['region'])\n",
    "df['region'] = np.where(df['region'].str.contains(\"NORRVIKEN\"), \"NORRVIKEN\", df['region'])\n",
    "df['region'] = np.where(df['region'].str.contains(\"TÖJNAN\"), \"TÖJNAN\", df['region'])\n",
    "df['region'] = np.where(df['region'].str.contains(\"HELENELUND\"), \"HELENELUND\", df['region'])\n",
    "df['region'] = np.where(df['region'].str.contains(\"EDSVIKEN\"), \"EDSVIKEN\", df['region'])\n",
    "df['region'] = np.where(df['region'].str.contains(\"ROTEBRO\"), \"ROTEBRO\", df['region'])\n",
    "df['region'] = np.where(df['region'].str.contains(\"HÄGGVIK\"), \"HÄGGVIK\", df['region'])\n",
    "df['region'] = np.where(df['region'].str.contains(\"FÅGELSÅNGEN\"), \"FÅGELSÅNGEN\", df['region'])\n",
    "df['region'] = np.where(df['region'].str.contains(\"SILVERDAL\"), \"SILVERDAL\", df['region'])\n",
    "df['region'] = np.where(df['region'].str.contains(\"SJÖBERG\"), \"SJÖBERG\", df['region'])\n",
    "df['region'] = np.where(df['region'].str.contains(\"TEGELHAGEN\"), \"TEGELHAGEN\", df['region'])\n",
    "df['region'] = np.where(df['region'].str.contains(\"TÖRNSKOGEN\"), \"TÖRNSKOGEN\", df['region'])\n",
    "df['region'] = np.where(df['region'].str.contains(\"ROTSUNDA\"), \"ROTEBRO\", df['region'])\n",
    "df['region'] = np.where(df['region'].str.contains(\"KÄRRDAL\"), \"KÄRRDAL\", df['region'])\n",
    "df['region'] = np.where(df['region'].str.contains(\"TUREBERG\"), \"TUREBERG\", df['region'])\n",
    "df['region'] = np.where(df['region'].str.contains(\"CENTRALA SOLLENTUNA\"), \"TUREBERG\", df['region'])\n",
    "df['region'] = np.where(df['region'].str.contains(\"SOLLENTUNA CENTRUM\"), \"TUREBERG\", df['region'])\n",
    "df['region'] = np.where(df['region'].str.contains(\"LANDSNORA\"), \"LANDSNORA\", df['region'])\n",
    "df['region'] = np.where(df['region'].str.contains(\"GILLBO\"), \"ROTEBRO\", df['region'])\n",
    "df['region'] = np.where(df['region'].str.contains(\"GILBO\"), \"ROTEBRO\", df['region'])\n",
    "df['region'] = np.where(df['region'].str.contains(\"GILLBERGA\"), \"GILLBO\", df['region'])\n",
    "df['region'] = np.where(df['region'].str.contains(\"EDSBERG\"), \"EDSBERG\", df['region'])\n",
    "df['region'] = np.where(df['region'].str.contains(\"EDSÄNGEN\"), \"EDSBERG\", df['region'])\n",
    "df['region'] = np.where(df['region'].str.contains(\"VAXMORA\"), \"WAXMORA\", df['region'])\n",
    "df['region'] = np.where(df['region'].str.contains(\"VÄSJÖN\"), \"VÄSJÖN\", df['region'])\n",
    "df['region'] = np.where(df['region'].str.contains(\"SÖDERSÄTRA\"), \"VÄSJÖN\", df['region'])\n",
    "df['region'] = np.where(df['region'].str.contains(\"SÖDERSÄTTRA\"), \"VÄSJÖN\", df['region'])\n",
    "df['region'] = np.where(df['region'].str.contains(\"EDSBACKA\"), \"HÄGGVIK\", df['region'])\n",
    "df['region'] = np.where(df['region'].str.contains(\"HÄSTHAGEN\"), \"HELENELUND\", df['region'])\n"
   ]
  },
  {
   "cell_type": "code",
   "execution_count": 5,
   "metadata": {},
   "outputs": [
    {
     "data": {
      "text/plain": [
       "VIBY                             285\n",
       "ROTEBRO                          174\n",
       "NORRVIKEN                        173\n",
       "TÖJNAN                           125\n",
       "HELENELUND                       101\n",
       "EDSVIKEN                          96\n",
       "HÄGGVIK                           91\n",
       "FÅGELSÅNGEN                       66\n",
       "TUREBERG                          56\n",
       "SILVERDAL                         54\n",
       "TEGELHAGEN                        50\n",
       "EDSBERG                           49\n",
       "SJÖBERG                           49\n",
       "TÖRNSKOGEN                        45\n",
       "LANDSNORA                         39\n",
       "KÄRRDAL                           37\n",
       "WAXMORA                           26\n",
       "VÄSJÖN                            19\n",
       "SOLÄNGEN                          18\n",
       "KVARNSKOGEN                       16\n",
       "SOLLENTUNA                        10\n",
       "SKÄLBY                             4\n",
       "GILLBO                             4\n",
       "TUNBERGET                          2\n",
       "FALKBERGET                         2\n",
       "HUSET SÅLT VISNINGEN INSTÄLLD      1\n",
       "POMMERN                            1\n",
       "Name: region, dtype: int64"
      ]
     },
     "execution_count": 5,
     "metadata": {},
     "output_type": "execute_result"
    }
   ],
   "source": [
    "df.region.value_counts()"
   ]
  },
  {
   "cell_type": "code",
   "execution_count": 6,
   "metadata": {},
   "outputs": [],
   "source": [
    "# Clean the brokers\n",
    "\n",
    "df['broker'] = np.where(df['broker'].str.contains(\"Bjurfors\"), \"Bjurfors\", df['broker'])\n",
    "df['broker'] = np.where(df['broker'].str.contains(\"Fastighetsbyrån\"), \"Fastighetsbyrån\", df['broker'])\n",
    "df['broker'] = np.where(df['broker'].str.contains(\"Mäklarhuset\"), \"Mäklarhuset\", df['broker'])\n",
    "df['broker'] = np.where(df['broker'].str.contains(\"Notar\"), \"Notar\", df['broker'])\n",
    "df['broker'] = np.where(df['broker'].str.contains(\"Susanne Persson\"), \"Susanne Persson\", df['broker'])\n",
    "df['broker'] = np.where(df['broker'].str.contains(\"HusmanHagberg\"), \"HusmanHagberg\", df['broker'])\n",
    "df['broker'] = np.where(df['broker'].str.contains(\"Svensk Fastighetsförmedling\"), \"Svensk Fastighetsförmedling\", df['broker'])\n",
    "df['broker'] = np.where(df['broker'].str.contains(\"Länsförsäkringar Fastighetsförmedling\"), \"Länsförsäkringar Fastighetsförmedling\", df['broker'])\n",
    "df['broker'] = np.where(df['broker'].str.contains(\"SkandiaMäklarna\"), \"SkandiaMäklarna\", df['broker'])\n",
    "df['broker'] = np.where(df['broker'].str.contains(\"ERA\"), \"ERA\", df['broker'])\n",
    "df['broker'] = np.where(df['broker'].str.contains(\"Mäklarringen\"), \"Mäklarringen\", df['broker'])\n",
    "df['broker'] = np.where(df['broker'].str.contains(\"Fastighetsmäklarna\"), \"Fastighetsmäklarna\", df['broker'])\n"
   ]
  },
  {
   "cell_type": "code",
   "execution_count": 7,
   "metadata": {},
   "outputs": [
    {
     "data": {
      "text/plain": [
       "Fastighetsbyrån                             503\n",
       "Mäklarhuset                                 212\n",
       "Bjurfors                                    183\n",
       "Notar                                       140\n",
       "Susanne Persson                             117\n",
       "Svensk Fastighetsförmedling                 115\n",
       "HusmanHagberg                               114\n",
       "Länsförsäkringar Fastighetsförmedling        88\n",
       "SkandiaMäklarna                              43\n",
       "ERA                                          27\n",
       "Erik Olsson Fastighetsförmedling             15\n",
       "Svenska Mäklargruppen                         4\n",
       "Mäklarringen                                  3\n",
       "Hemverket AB                                  3\n",
       "Urban by ESNY                                 3\n",
       "Jägholm Norrortsmäklarna                      3\n",
       "Karlsson & Uddare AB                          3\n",
       "Gripsholms Fastighetsförmedling AB            2\n",
       "RE/MAX RE/MAX Boetgruppen                     2\n",
       "Real Vision Sweden AB                         2\n",
       "Fastighetsmäklarna                            2\n",
       "Skeppsholmen Fastighetsmäkleri AB             2\n",
       "Eric Thors Fastighetsbyrå AB                  1\n",
       "Magnusson Mäkleri Lidingö AB                  1\n",
       "Historiska Hem                                1\n",
       "Mäklarfirman Vincent Forssbeck KB             1\n",
       "Magnusson Mäkleri Östermalm AB                1\n",
       "Wallenberg Fastighetsförmedling               1\n",
       "Jesper Magnusson Fastighetsförmedling AB      1\n",
       "Name: broker, dtype: int64"
      ]
     },
     "execution_count": 7,
     "metadata": {},
     "output_type": "execute_result"
    }
   ],
   "source": [
    "df.broker.value_counts()"
   ]
  },
  {
   "cell_type": "code",
   "execution_count": 8,
   "metadata": {},
   "outputs": [
    {
     "data": {
      "text/html": [
       "<div>\n",
       "<style scoped>\n",
       "    .dataframe tbody tr th:only-of-type {\n",
       "        vertical-align: middle;\n",
       "    }\n",
       "\n",
       "    .dataframe tbody tr th {\n",
       "        vertical-align: top;\n",
       "    }\n",
       "\n",
       "    .dataframe thead th {\n",
       "        text-align: right;\n",
       "    }\n",
       "</style>\n",
       "<table border=\"1\" class=\"dataframe\">\n",
       "  <thead>\n",
       "    <tr style=\"text-align: right;\">\n",
       "      <th></th>\n",
       "      <th>house_type</th>\n",
       "      <th>address</th>\n",
       "      <th>region</th>\n",
       "      <th>area</th>\n",
       "      <th>sup_area</th>\n",
       "      <th>rooms</th>\n",
       "      <th>land_area</th>\n",
       "      <th>monthly_fee</th>\n",
       "      <th>date_sold</th>\n",
       "      <th>broker</th>\n",
       "      <th>price_change_pct</th>\n",
       "      <th>price</th>\n",
       "    </tr>\n",
       "  </thead>\n",
       "  <tbody>\n",
       "    <tr>\n",
       "      <th>0</th>\n",
       "      <td>Villa</td>\n",
       "      <td>Kavallerivägen 20</td>\n",
       "      <td>ROTEBRO</td>\n",
       "      <td>127.0</td>\n",
       "      <td>77.0</td>\n",
       "      <td>6.0</td>\n",
       "      <td>919.0</td>\n",
       "      <td>0.0</td>\n",
       "      <td>2019-02-20</td>\n",
       "      <td>Fastighetsbyrån</td>\n",
       "      <td>-2.0</td>\n",
       "      <td>5200000.0</td>\n",
       "    </tr>\n",
       "    <tr>\n",
       "      <th>1</th>\n",
       "      <td>Radhus</td>\n",
       "      <td>Bäckvägen  7D</td>\n",
       "      <td>VIBY</td>\n",
       "      <td>118.0</td>\n",
       "      <td>6.0</td>\n",
       "      <td>5.0</td>\n",
       "      <td>222.0</td>\n",
       "      <td>0.0</td>\n",
       "      <td>2019-02-16</td>\n",
       "      <td>Notar</td>\n",
       "      <td>16.0</td>\n",
       "      <td>4000000.0</td>\n",
       "    </tr>\n",
       "    <tr>\n",
       "      <th>2</th>\n",
       "      <td>Villa</td>\n",
       "      <td>Humlevägen  23</td>\n",
       "      <td>VIBY</td>\n",
       "      <td>193.0</td>\n",
       "      <td>30.0</td>\n",
       "      <td>7.0</td>\n",
       "      <td>1086.0</td>\n",
       "      <td>0.0</td>\n",
       "      <td>2019-02-14</td>\n",
       "      <td>Länsförsäkringar Fastighetsförmedling</td>\n",
       "      <td>10.0</td>\n",
       "      <td>11850000.0</td>\n",
       "    </tr>\n",
       "    <tr>\n",
       "      <th>3</th>\n",
       "      <td>Villa</td>\n",
       "      <td>Steglitsvägen 5</td>\n",
       "      <td>SJÖBERG</td>\n",
       "      <td>157.0</td>\n",
       "      <td>41.0</td>\n",
       "      <td>6.0</td>\n",
       "      <td>768.6</td>\n",
       "      <td>0.0</td>\n",
       "      <td>2019-02-11</td>\n",
       "      <td>Fastighetsbyrån</td>\n",
       "      <td>6.0</td>\n",
       "      <td>7300000.0</td>\n",
       "    </tr>\n",
       "    <tr>\n",
       "      <th>4</th>\n",
       "      <td>Radhus</td>\n",
       "      <td>Chaplins gränd 42</td>\n",
       "      <td>ROTEBRO</td>\n",
       "      <td>105.0</td>\n",
       "      <td>0.0</td>\n",
       "      <td>4.0</td>\n",
       "      <td>110.0</td>\n",
       "      <td>0.0</td>\n",
       "      <td>2019-02-07</td>\n",
       "      <td>Fastighetsbyrån</td>\n",
       "      <td>0.0</td>\n",
       "      <td>3995000.0</td>\n",
       "    </tr>\n",
       "    <tr>\n",
       "      <th>5</th>\n",
       "      <td>Villa</td>\n",
       "      <td>Malvastigen 24B</td>\n",
       "      <td>EDSBERG</td>\n",
       "      <td>86.0</td>\n",
       "      <td>30.0</td>\n",
       "      <td>4.0</td>\n",
       "      <td>983.0</td>\n",
       "      <td>0.0</td>\n",
       "      <td>2019-02-07</td>\n",
       "      <td>Svensk Fastighetsförmedling</td>\n",
       "      <td>7.0</td>\n",
       "      <td>5600000.0</td>\n",
       "    </tr>\n",
       "    <tr>\n",
       "      <th>6</th>\n",
       "      <td>Radhus</td>\n",
       "      <td>Malungsvägen 78</td>\n",
       "      <td>VIBY</td>\n",
       "      <td>137.0</td>\n",
       "      <td>0.0</td>\n",
       "      <td>4.0</td>\n",
       "      <td>257.0</td>\n",
       "      <td>0.0</td>\n",
       "      <td>2019-02-06</td>\n",
       "      <td>Fastighetsbyrån</td>\n",
       "      <td>3.0</td>\n",
       "      <td>4525000.0</td>\n",
       "    </tr>\n",
       "    <tr>\n",
       "      <th>7</th>\n",
       "      <td>Radhus</td>\n",
       "      <td>Tegelhagsvägen 27</td>\n",
       "      <td>TEGELHAGEN</td>\n",
       "      <td>126.5</td>\n",
       "      <td>0.0</td>\n",
       "      <td>5.5</td>\n",
       "      <td>0.0</td>\n",
       "      <td>6380.0</td>\n",
       "      <td>2019-02-05</td>\n",
       "      <td>Länsförsäkringar Fastighetsförmedling</td>\n",
       "      <td>6.0</td>\n",
       "      <td>6350000.0</td>\n",
       "    </tr>\n",
       "    <tr>\n",
       "      <th>8</th>\n",
       "      <td>Villa</td>\n",
       "      <td>Stenkullevägen 9B</td>\n",
       "      <td>VIBY</td>\n",
       "      <td>147.0</td>\n",
       "      <td>0.0</td>\n",
       "      <td>6.0</td>\n",
       "      <td>1032.4</td>\n",
       "      <td>0.0</td>\n",
       "      <td>2019-02-03</td>\n",
       "      <td>HusmanHagberg</td>\n",
       "      <td>3.0</td>\n",
       "      <td>7720000.0</td>\n",
       "    </tr>\n",
       "    <tr>\n",
       "      <th>9</th>\n",
       "      <td>Villa</td>\n",
       "      <td>Båtsmansvägen 31b</td>\n",
       "      <td>TÖRNSKOGEN</td>\n",
       "      <td>153.0</td>\n",
       "      <td>104.0</td>\n",
       "      <td>6.0</td>\n",
       "      <td>1201.0</td>\n",
       "      <td>0.0</td>\n",
       "      <td>2019-02-03</td>\n",
       "      <td>Länsförsäkringar Fastighetsförmedling</td>\n",
       "      <td>0.0</td>\n",
       "      <td>6700000.0</td>\n",
       "    </tr>\n",
       "    <tr>\n",
       "      <th>10</th>\n",
       "      <td>Radhus</td>\n",
       "      <td>Murkelvägen 36</td>\n",
       "      <td>KVARNSKOGEN</td>\n",
       "      <td>150.0</td>\n",
       "      <td>26.0</td>\n",
       "      <td>6.0</td>\n",
       "      <td>470.0</td>\n",
       "      <td>0.0</td>\n",
       "      <td>2019-02-02</td>\n",
       "      <td>Länsförsäkringar Fastighetsförmedling</td>\n",
       "      <td>9.0</td>\n",
       "      <td>6560000.0</td>\n",
       "    </tr>\n",
       "    <tr>\n",
       "      <th>11</th>\n",
       "      <td>Villa</td>\n",
       "      <td>Poppelvägen 10B</td>\n",
       "      <td>FÅGELSÅNGEN</td>\n",
       "      <td>133.0</td>\n",
       "      <td>133.0</td>\n",
       "      <td>4.0</td>\n",
       "      <td>976.0</td>\n",
       "      <td>0.0</td>\n",
       "      <td>2019-01-31</td>\n",
       "      <td>Fastighetsbyrån</td>\n",
       "      <td>-3.0</td>\n",
       "      <td>7225000.0</td>\n",
       "    </tr>\n",
       "    <tr>\n",
       "      <th>12</th>\n",
       "      <td>Radhus</td>\n",
       "      <td>Slottsvägen 25</td>\n",
       "      <td>LANDSNORA</td>\n",
       "      <td>97.0</td>\n",
       "      <td>0.0</td>\n",
       "      <td>4.0</td>\n",
       "      <td>0.0</td>\n",
       "      <td>3356.0</td>\n",
       "      <td>2019-01-31</td>\n",
       "      <td>Länsförsäkringar Fastighetsförmedling</td>\n",
       "      <td>5.0</td>\n",
       "      <td>4925000.0</td>\n",
       "    </tr>\n",
       "    <tr>\n",
       "      <th>13</th>\n",
       "      <td>Radhus</td>\n",
       "      <td>Linnés väg 48</td>\n",
       "      <td>HÄGGVIK</td>\n",
       "      <td>103.0</td>\n",
       "      <td>0.0</td>\n",
       "      <td>4.0</td>\n",
       "      <td>208.0</td>\n",
       "      <td>0.0</td>\n",
       "      <td>2019-01-28</td>\n",
       "      <td>Fastighetsbyrån</td>\n",
       "      <td>1.0</td>\n",
       "      <td>4245000.0</td>\n",
       "    </tr>\n",
       "    <tr>\n",
       "      <th>14</th>\n",
       "      <td>Radhus</td>\n",
       "      <td>Jordgränd 30</td>\n",
       "      <td>VIBY</td>\n",
       "      <td>109.2</td>\n",
       "      <td>0.0</td>\n",
       "      <td>4.0</td>\n",
       "      <td>0.0</td>\n",
       "      <td>4895.0</td>\n",
       "      <td>2019-01-28</td>\n",
       "      <td>HusmanHagberg</td>\n",
       "      <td>3.0</td>\n",
       "      <td>4475000.0</td>\n",
       "    </tr>\n",
       "    <tr>\n",
       "      <th>15</th>\n",
       "      <td>Radhus</td>\n",
       "      <td>Porsvägen  188</td>\n",
       "      <td>WAXMORA</td>\n",
       "      <td>116.0</td>\n",
       "      <td>9.0</td>\n",
       "      <td>5.0</td>\n",
       "      <td>191.0</td>\n",
       "      <td>0.0</td>\n",
       "      <td>2019-01-25</td>\n",
       "      <td>Notar</td>\n",
       "      <td>-2.0</td>\n",
       "      <td>3900000.0</td>\n",
       "    </tr>\n",
       "    <tr>\n",
       "      <th>16</th>\n",
       "      <td>Radhus</td>\n",
       "      <td>Allévägen 6R</td>\n",
       "      <td>ROTEBRO</td>\n",
       "      <td>94.5</td>\n",
       "      <td>0.0</td>\n",
       "      <td>4.0</td>\n",
       "      <td>0.0</td>\n",
       "      <td>5087.0</td>\n",
       "      <td>2019-01-25</td>\n",
       "      <td>Notar</td>\n",
       "      <td>6.0</td>\n",
       "      <td>3150000.0</td>\n",
       "    </tr>\n",
       "    <tr>\n",
       "      <th>17</th>\n",
       "      <td>Radhus</td>\n",
       "      <td>Allévägen 66</td>\n",
       "      <td>GILLBO</td>\n",
       "      <td>180.0</td>\n",
       "      <td>0.0</td>\n",
       "      <td>7.0</td>\n",
       "      <td>649.0</td>\n",
       "      <td>0.0</td>\n",
       "      <td>2019-01-24</td>\n",
       "      <td>Fastighetsbyrån</td>\n",
       "      <td>5.0</td>\n",
       "      <td>6800000.0</td>\n",
       "    </tr>\n",
       "    <tr>\n",
       "      <th>18</th>\n",
       "      <td>Radhus</td>\n",
       "      <td>Starrgränd 36</td>\n",
       "      <td>VIBY</td>\n",
       "      <td>126.0</td>\n",
       "      <td>0.0</td>\n",
       "      <td>5.0</td>\n",
       "      <td>168.0</td>\n",
       "      <td>0.0</td>\n",
       "      <td>2019-01-23</td>\n",
       "      <td>Fastighetsbyrån</td>\n",
       "      <td>-6.0</td>\n",
       "      <td>4000000.0</td>\n",
       "    </tr>\n",
       "    <tr>\n",
       "      <th>19</th>\n",
       "      <td>Villa</td>\n",
       "      <td>Minkvägen 14</td>\n",
       "      <td>TEGELHAGEN</td>\n",
       "      <td>120.0</td>\n",
       "      <td>0.0</td>\n",
       "      <td>5.0</td>\n",
       "      <td>253.0</td>\n",
       "      <td>0.0</td>\n",
       "      <td>2019-01-23</td>\n",
       "      <td>Fastighetsbyrån</td>\n",
       "      <td>6.0</td>\n",
       "      <td>6350000.0</td>\n",
       "    </tr>\n",
       "    <tr>\n",
       "      <th>20</th>\n",
       "      <td>Radhus</td>\n",
       "      <td>Timotejvägen 92</td>\n",
       "      <td>ROTEBRO</td>\n",
       "      <td>117.0</td>\n",
       "      <td>41.0</td>\n",
       "      <td>6.0</td>\n",
       "      <td>118.0</td>\n",
       "      <td>0.0</td>\n",
       "      <td>2019-01-23</td>\n",
       "      <td>Fastighetsbyrån</td>\n",
       "      <td>4.0</td>\n",
       "      <td>3650000.0</td>\n",
       "    </tr>\n",
       "    <tr>\n",
       "      <th>21</th>\n",
       "      <td>Villa</td>\n",
       "      <td>Basunvägen 12</td>\n",
       "      <td>VIBY</td>\n",
       "      <td>121.5</td>\n",
       "      <td>0.0</td>\n",
       "      <td>6.0</td>\n",
       "      <td>0.0</td>\n",
       "      <td>6500.0</td>\n",
       "      <td>2019-01-23</td>\n",
       "      <td>Länsförsäkringar Fastighetsförmedling</td>\n",
       "      <td>14.0</td>\n",
       "      <td>4430000.0</td>\n",
       "    </tr>\n",
       "    <tr>\n",
       "      <th>22</th>\n",
       "      <td>Villa</td>\n",
       "      <td>Östervägen 30B</td>\n",
       "      <td>HÄGGVIK</td>\n",
       "      <td>188.0</td>\n",
       "      <td>37.0</td>\n",
       "      <td>5.0</td>\n",
       "      <td>1060.0</td>\n",
       "      <td>0.0</td>\n",
       "      <td>2019-01-18</td>\n",
       "      <td>Fastighetsbyrån</td>\n",
       "      <td>-3.0</td>\n",
       "      <td>6800000.0</td>\n",
       "    </tr>\n",
       "    <tr>\n",
       "      <th>23</th>\n",
       "      <td>Radhus</td>\n",
       "      <td>Fjärdingsmansvägen 246</td>\n",
       "      <td>NORRVIKEN</td>\n",
       "      <td>115.0</td>\n",
       "      <td>0.0</td>\n",
       "      <td>4.0</td>\n",
       "      <td>210.0</td>\n",
       "      <td>0.0</td>\n",
       "      <td>2019-01-18</td>\n",
       "      <td>Mäklarhuset</td>\n",
       "      <td>11.0</td>\n",
       "      <td>4225000.0</td>\n",
       "    </tr>\n",
       "    <tr>\n",
       "      <th>24</th>\n",
       "      <td>Villa</td>\n",
       "      <td>Båtsmansvägen  3A</td>\n",
       "      <td>TÖRNSKOGEN</td>\n",
       "      <td>158.0</td>\n",
       "      <td>85.0</td>\n",
       "      <td>6.0</td>\n",
       "      <td>1497.0</td>\n",
       "      <td>0.0</td>\n",
       "      <td>2019-01-18</td>\n",
       "      <td>Länsförsäkringar Fastighetsförmedling</td>\n",
       "      <td>4.0</td>\n",
       "      <td>5700000.0</td>\n",
       "    </tr>\n",
       "    <tr>\n",
       "      <th>25</th>\n",
       "      <td>Radhus</td>\n",
       "      <td>Holmbodavägen  4K</td>\n",
       "      <td>VIBY</td>\n",
       "      <td>173.0</td>\n",
       "      <td>23.0</td>\n",
       "      <td>9.0</td>\n",
       "      <td>736.0</td>\n",
       "      <td>0.0</td>\n",
       "      <td>2019-01-18</td>\n",
       "      <td>Magnusson Mäkleri Östermalm AB</td>\n",
       "      <td>0.0</td>\n",
       "      <td>5000000.0</td>\n",
       "    </tr>\n",
       "    <tr>\n",
       "      <th>26</th>\n",
       "      <td>Radhus</td>\n",
       "      <td>Kummelbyvägen  1B</td>\n",
       "      <td>HELENELUND</td>\n",
       "      <td>128.0</td>\n",
       "      <td>7.0</td>\n",
       "      <td>5.0</td>\n",
       "      <td>297.0</td>\n",
       "      <td>0.0</td>\n",
       "      <td>2019-01-18</td>\n",
       "      <td>Mäklarhuset</td>\n",
       "      <td>-4.0</td>\n",
       "      <td>5750000.0</td>\n",
       "    </tr>\n",
       "    <tr>\n",
       "      <th>27</th>\n",
       "      <td>Radhus</td>\n",
       "      <td>Scoutvägen 66</td>\n",
       "      <td>TEGELHAGEN</td>\n",
       "      <td>79.0</td>\n",
       "      <td>0.0</td>\n",
       "      <td>3.0</td>\n",
       "      <td>0.0</td>\n",
       "      <td>4989.0</td>\n",
       "      <td>2019-01-18</td>\n",
       "      <td>Länsförsäkringar Fastighetsförmedling</td>\n",
       "      <td>0.0</td>\n",
       "      <td>4300000.0</td>\n",
       "    </tr>\n",
       "    <tr>\n",
       "      <th>28</th>\n",
       "      <td>Radhus</td>\n",
       "      <td>Tennisvägen 41</td>\n",
       "      <td>ROTEBRO</td>\n",
       "      <td>136.0</td>\n",
       "      <td>34.0</td>\n",
       "      <td>7.0</td>\n",
       "      <td>454.0</td>\n",
       "      <td>0.0</td>\n",
       "      <td>2019-01-17</td>\n",
       "      <td>Fastighetsbyrån</td>\n",
       "      <td>-7.0</td>\n",
       "      <td>5000000.0</td>\n",
       "    </tr>\n",
       "    <tr>\n",
       "      <th>29</th>\n",
       "      <td>Radhus</td>\n",
       "      <td>Soldatvägen 39</td>\n",
       "      <td>VIBY</td>\n",
       "      <td>42.0</td>\n",
       "      <td>0.0</td>\n",
       "      <td>2.0</td>\n",
       "      <td>0.0</td>\n",
       "      <td>4302.0</td>\n",
       "      <td>2019-01-16</td>\n",
       "      <td>Mäklarhuset</td>\n",
       "      <td>0.0</td>\n",
       "      <td>1595000.0</td>\n",
       "    </tr>\n",
       "    <tr>\n",
       "      <th>...</th>\n",
       "      <td>...</td>\n",
       "      <td>...</td>\n",
       "      <td>...</td>\n",
       "      <td>...</td>\n",
       "      <td>...</td>\n",
       "      <td>...</td>\n",
       "      <td>...</td>\n",
       "      <td>...</td>\n",
       "      <td>...</td>\n",
       "      <td>...</td>\n",
       "      <td>...</td>\n",
       "      <td>...</td>\n",
       "    </tr>\n",
       "    <tr>\n",
       "      <th>1563</th>\n",
       "      <td>Villa</td>\n",
       "      <td>Rävgärdsvägen 24b</td>\n",
       "      <td>VIBY</td>\n",
       "      <td>218.0</td>\n",
       "      <td>31.0</td>\n",
       "      <td>9.0</td>\n",
       "      <td>1040.0</td>\n",
       "      <td>0.0</td>\n",
       "      <td>2013-09-04</td>\n",
       "      <td>Notar</td>\n",
       "      <td>3.0</td>\n",
       "      <td>6650000.0</td>\n",
       "    </tr>\n",
       "    <tr>\n",
       "      <th>1564</th>\n",
       "      <td>Villa</td>\n",
       "      <td>Kavallerivägen 26</td>\n",
       "      <td>ROTEBRO</td>\n",
       "      <td>164.0</td>\n",
       "      <td>46.0</td>\n",
       "      <td>7.0</td>\n",
       "      <td>1077.0</td>\n",
       "      <td>0.0</td>\n",
       "      <td>2013-09-03</td>\n",
       "      <td>Bjurfors</td>\n",
       "      <td>0.0</td>\n",
       "      <td>3235000.0</td>\n",
       "    </tr>\n",
       "    <tr>\n",
       "      <th>1565</th>\n",
       "      <td>Villa</td>\n",
       "      <td>Lindvägen 4B</td>\n",
       "      <td>NORRVIKEN</td>\n",
       "      <td>130.0</td>\n",
       "      <td>30.0</td>\n",
       "      <td>4.0</td>\n",
       "      <td>737.0</td>\n",
       "      <td>0.0</td>\n",
       "      <td>2013-09-03</td>\n",
       "      <td>Fastighetsbyrån</td>\n",
       "      <td>-5.0</td>\n",
       "      <td>3985000.0</td>\n",
       "    </tr>\n",
       "    <tr>\n",
       "      <th>1566</th>\n",
       "      <td>Villa</td>\n",
       "      <td>Bergstigen 2</td>\n",
       "      <td>NORRVIKEN</td>\n",
       "      <td>160.0</td>\n",
       "      <td>55.0</td>\n",
       "      <td>NaN</td>\n",
       "      <td>891.0</td>\n",
       "      <td>0.0</td>\n",
       "      <td>2013-08-31</td>\n",
       "      <td>Bjurfors</td>\n",
       "      <td>-5.0</td>\n",
       "      <td>6300000.0</td>\n",
       "    </tr>\n",
       "    <tr>\n",
       "      <th>1567</th>\n",
       "      <td>Villa</td>\n",
       "      <td>Landsvägen 29</td>\n",
       "      <td>NORRVIKEN</td>\n",
       "      <td>260.0</td>\n",
       "      <td>0.0</td>\n",
       "      <td>8.0</td>\n",
       "      <td>1031.0</td>\n",
       "      <td>0.0</td>\n",
       "      <td>2013-08-29</td>\n",
       "      <td>Fastighetsbyrån</td>\n",
       "      <td>-12.0</td>\n",
       "      <td>5750000.0</td>\n",
       "    </tr>\n",
       "    <tr>\n",
       "      <th>1568</th>\n",
       "      <td>Villa</td>\n",
       "      <td>Anhaltsvägen 57</td>\n",
       "      <td>EDSVIKEN</td>\n",
       "      <td>229.0</td>\n",
       "      <td>146.0</td>\n",
       "      <td>6.0</td>\n",
       "      <td>1512.0</td>\n",
       "      <td>0.0</td>\n",
       "      <td>2013-08-29</td>\n",
       "      <td>Fastighetsbyrån</td>\n",
       "      <td>19.0</td>\n",
       "      <td>9500000.0</td>\n",
       "    </tr>\n",
       "    <tr>\n",
       "      <th>1569</th>\n",
       "      <td>Radhus</td>\n",
       "      <td>Rådjursstigen 29</td>\n",
       "      <td>TÖJNAN</td>\n",
       "      <td>94.0</td>\n",
       "      <td>0.0</td>\n",
       "      <td>4.0</td>\n",
       "      <td>0.0</td>\n",
       "      <td>4084.0</td>\n",
       "      <td>2013-08-24</td>\n",
       "      <td>Bjurfors</td>\n",
       "      <td>0.0</td>\n",
       "      <td>2795000.0</td>\n",
       "    </tr>\n",
       "    <tr>\n",
       "      <th>1570</th>\n",
       "      <td>Villa</td>\n",
       "      <td>Aspvägen 13a</td>\n",
       "      <td>HELENELUND</td>\n",
       "      <td>167.0</td>\n",
       "      <td>44.0</td>\n",
       "      <td>7.0</td>\n",
       "      <td>1036.0</td>\n",
       "      <td>0.0</td>\n",
       "      <td>2013-08-23</td>\n",
       "      <td>Bjurfors</td>\n",
       "      <td>0.0</td>\n",
       "      <td>5450000.0</td>\n",
       "    </tr>\n",
       "    <tr>\n",
       "      <th>1571</th>\n",
       "      <td>Radhus</td>\n",
       "      <td>Rudbecks Väg 41</td>\n",
       "      <td>EDSBERG</td>\n",
       "      <td>98.0</td>\n",
       "      <td>0.0</td>\n",
       "      <td>4.0</td>\n",
       "      <td>0.0</td>\n",
       "      <td>3466.0</td>\n",
       "      <td>2013-08-23</td>\n",
       "      <td>Notar</td>\n",
       "      <td>14.0</td>\n",
       "      <td>3275000.0</td>\n",
       "    </tr>\n",
       "    <tr>\n",
       "      <th>1572</th>\n",
       "      <td>Villa</td>\n",
       "      <td>Tolvmansvägen 28</td>\n",
       "      <td>NORRVIKEN</td>\n",
       "      <td>108.0</td>\n",
       "      <td>105.0</td>\n",
       "      <td>7.0</td>\n",
       "      <td>715.0</td>\n",
       "      <td>0.0</td>\n",
       "      <td>2013-08-21</td>\n",
       "      <td>Fastighetsbyrån</td>\n",
       "      <td>22.0</td>\n",
       "      <td>4860000.0</td>\n",
       "    </tr>\n",
       "    <tr>\n",
       "      <th>1573</th>\n",
       "      <td>Radhus</td>\n",
       "      <td>Domherrevägen 63</td>\n",
       "      <td>SJÖBERG</td>\n",
       "      <td>148.0</td>\n",
       "      <td>27.0</td>\n",
       "      <td>7.0</td>\n",
       "      <td>412.0</td>\n",
       "      <td>0.0</td>\n",
       "      <td>2013-08-20</td>\n",
       "      <td>Fastighetsbyrån</td>\n",
       "      <td>0.0</td>\n",
       "      <td>3995000.0</td>\n",
       "    </tr>\n",
       "    <tr>\n",
       "      <th>1574</th>\n",
       "      <td>Villa</td>\n",
       "      <td>Linnés väg 49</td>\n",
       "      <td>HÄGGVIK</td>\n",
       "      <td>116.0</td>\n",
       "      <td>57.0</td>\n",
       "      <td>6.0</td>\n",
       "      <td>962.0</td>\n",
       "      <td>0.0</td>\n",
       "      <td>2013-08-16</td>\n",
       "      <td>Fastighetsbyrån</td>\n",
       "      <td>0.0</td>\n",
       "      <td>3975000.0</td>\n",
       "    </tr>\n",
       "    <tr>\n",
       "      <th>1575</th>\n",
       "      <td>Radhus</td>\n",
       "      <td>Fagottvägen 27</td>\n",
       "      <td>VIBY</td>\n",
       "      <td>80.0</td>\n",
       "      <td>7.5</td>\n",
       "      <td>3.0</td>\n",
       "      <td>0.0</td>\n",
       "      <td>4882.0</td>\n",
       "      <td>2013-08-15</td>\n",
       "      <td>Mäklarhuset</td>\n",
       "      <td>3.0</td>\n",
       "      <td>2460000.0</td>\n",
       "    </tr>\n",
       "    <tr>\n",
       "      <th>1576</th>\n",
       "      <td>Radhus</td>\n",
       "      <td>Tungels väg 13</td>\n",
       "      <td>VIBY</td>\n",
       "      <td>60.0</td>\n",
       "      <td>0.0</td>\n",
       "      <td>2.0</td>\n",
       "      <td>0.0</td>\n",
       "      <td>4276.0</td>\n",
       "      <td>2013-08-15</td>\n",
       "      <td>Mäklarhuset</td>\n",
       "      <td>17.0</td>\n",
       "      <td>1750000.0</td>\n",
       "    </tr>\n",
       "    <tr>\n",
       "      <th>1577</th>\n",
       "      <td>Radhus</td>\n",
       "      <td>Lantgårdsvägen 132</td>\n",
       "      <td>VIBY</td>\n",
       "      <td>84.0</td>\n",
       "      <td>0.0</td>\n",
       "      <td>3.0</td>\n",
       "      <td>0.0</td>\n",
       "      <td>4224.0</td>\n",
       "      <td>2013-08-14</td>\n",
       "      <td>Mäklarhuset</td>\n",
       "      <td>15.0</td>\n",
       "      <td>2650000.0</td>\n",
       "    </tr>\n",
       "    <tr>\n",
       "      <th>1578</th>\n",
       "      <td>Radhus</td>\n",
       "      <td>Lantgårdsvägen 94</td>\n",
       "      <td>VIBY</td>\n",
       "      <td>84.0</td>\n",
       "      <td>0.0</td>\n",
       "      <td>3.5</td>\n",
       "      <td>0.0</td>\n",
       "      <td>4224.0</td>\n",
       "      <td>2013-08-14</td>\n",
       "      <td>Mäklarhuset</td>\n",
       "      <td>1.0</td>\n",
       "      <td>2125000.0</td>\n",
       "    </tr>\n",
       "    <tr>\n",
       "      <th>1579</th>\n",
       "      <td>Radhus</td>\n",
       "      <td>Klockargränd 16</td>\n",
       "      <td>NORRVIKEN</td>\n",
       "      <td>160.0</td>\n",
       "      <td>36.0</td>\n",
       "      <td>7.0</td>\n",
       "      <td>184.0</td>\n",
       "      <td>0.0</td>\n",
       "      <td>2013-08-09</td>\n",
       "      <td>Bjurfors</td>\n",
       "      <td>-3.0</td>\n",
       "      <td>3700000.0</td>\n",
       "    </tr>\n",
       "    <tr>\n",
       "      <th>1580</th>\n",
       "      <td>Radhus</td>\n",
       "      <td>Scoutvägen 104</td>\n",
       "      <td>TEGELHAGEN</td>\n",
       "      <td>122.5</td>\n",
       "      <td>0.0</td>\n",
       "      <td>5.0</td>\n",
       "      <td>0.0</td>\n",
       "      <td>6993.0</td>\n",
       "      <td>2013-08-09</td>\n",
       "      <td>Fastighetsbyrån</td>\n",
       "      <td>2.0</td>\n",
       "      <td>4050000.0</td>\n",
       "    </tr>\n",
       "    <tr>\n",
       "      <th>1581</th>\n",
       "      <td>Radhus</td>\n",
       "      <td>Malvastigen 7F</td>\n",
       "      <td>EDSBERG</td>\n",
       "      <td>89.0</td>\n",
       "      <td>0.0</td>\n",
       "      <td>4.0</td>\n",
       "      <td>132.0</td>\n",
       "      <td>0.0</td>\n",
       "      <td>2013-08-09</td>\n",
       "      <td>Fastighetsbyrån</td>\n",
       "      <td>8.0</td>\n",
       "      <td>3070000.0</td>\n",
       "    </tr>\n",
       "    <tr>\n",
       "      <th>1582</th>\n",
       "      <td>Radhus</td>\n",
       "      <td>Aspvägen 24 H</td>\n",
       "      <td>FÅGELSÅNGEN</td>\n",
       "      <td>103.0</td>\n",
       "      <td>0.0</td>\n",
       "      <td>4.0</td>\n",
       "      <td>0.0</td>\n",
       "      <td>4750.0</td>\n",
       "      <td>2013-08-07</td>\n",
       "      <td>Notar</td>\n",
       "      <td>0.0</td>\n",
       "      <td>2900000.0</td>\n",
       "    </tr>\n",
       "    <tr>\n",
       "      <th>1583</th>\n",
       "      <td>Radhus</td>\n",
       "      <td>Rudbecks Väg 6 - OBS Visningen inställd, Huset...</td>\n",
       "      <td>EDSBERG</td>\n",
       "      <td>119.0</td>\n",
       "      <td>11.0</td>\n",
       "      <td>5.0</td>\n",
       "      <td>0.0</td>\n",
       "      <td>3999.0</td>\n",
       "      <td>2013-08-06</td>\n",
       "      <td>Notar</td>\n",
       "      <td>0.0</td>\n",
       "      <td>3450000.0</td>\n",
       "    </tr>\n",
       "    <tr>\n",
       "      <th>1584</th>\n",
       "      <td>Radhus</td>\n",
       "      <td>Lantgårdsvägen 3C</td>\n",
       "      <td>VIBY</td>\n",
       "      <td>130.0</td>\n",
       "      <td>0.0</td>\n",
       "      <td>4.0</td>\n",
       "      <td>0.0</td>\n",
       "      <td>5918.0</td>\n",
       "      <td>2013-07-18</td>\n",
       "      <td>Bjurfors</td>\n",
       "      <td>0.0</td>\n",
       "      <td>2990000.0</td>\n",
       "    </tr>\n",
       "    <tr>\n",
       "      <th>1585</th>\n",
       "      <td>Radhus</td>\n",
       "      <td>Lillies Väg 71</td>\n",
       "      <td>VIBY</td>\n",
       "      <td>61.5</td>\n",
       "      <td>0.0</td>\n",
       "      <td>2.0</td>\n",
       "      <td>0.0</td>\n",
       "      <td>3165.0</td>\n",
       "      <td>2013-07-05</td>\n",
       "      <td>Notar</td>\n",
       "      <td>27.0</td>\n",
       "      <td>1770000.0</td>\n",
       "    </tr>\n",
       "    <tr>\n",
       "      <th>1586</th>\n",
       "      <td>Radhus</td>\n",
       "      <td>Ryavägen 52</td>\n",
       "      <td>TÖJNAN</td>\n",
       "      <td>126.0</td>\n",
       "      <td>0.0</td>\n",
       "      <td>5.0</td>\n",
       "      <td>171.0</td>\n",
       "      <td>0.0</td>\n",
       "      <td>2013-07-04</td>\n",
       "      <td>Fastighetsbyrån</td>\n",
       "      <td>6.0</td>\n",
       "      <td>2800000.0</td>\n",
       "    </tr>\n",
       "    <tr>\n",
       "      <th>1587</th>\n",
       "      <td>Villa</td>\n",
       "      <td>Ryavägen 37</td>\n",
       "      <td>TÖJNAN</td>\n",
       "      <td>163.0</td>\n",
       "      <td>0.0</td>\n",
       "      <td>6.0</td>\n",
       "      <td>1104.0</td>\n",
       "      <td>0.0</td>\n",
       "      <td>2013-06-30</td>\n",
       "      <td>Fastighetsbyrån</td>\n",
       "      <td>-2.0</td>\n",
       "      <td>5000000.0</td>\n",
       "    </tr>\n",
       "    <tr>\n",
       "      <th>1588</th>\n",
       "      <td>Villa</td>\n",
       "      <td>Tallvägen 6B</td>\n",
       "      <td>HELENELUND</td>\n",
       "      <td>125.0</td>\n",
       "      <td>80.0</td>\n",
       "      <td>6.0</td>\n",
       "      <td>838.0</td>\n",
       "      <td>0.0</td>\n",
       "      <td>2013-06-28</td>\n",
       "      <td>Fastighetsbyrån</td>\n",
       "      <td>2.0</td>\n",
       "      <td>4600000.0</td>\n",
       "    </tr>\n",
       "    <tr>\n",
       "      <th>1589</th>\n",
       "      <td>Radhus</td>\n",
       "      <td>Aspvägen 22A</td>\n",
       "      <td>HELENELUND</td>\n",
       "      <td>103.0</td>\n",
       "      <td>0.0</td>\n",
       "      <td>5.0</td>\n",
       "      <td>0.0</td>\n",
       "      <td>4750.0</td>\n",
       "      <td>2013-06-28</td>\n",
       "      <td>Fastighetsbyrån</td>\n",
       "      <td>7.0</td>\n",
       "      <td>2875000.0</td>\n",
       "    </tr>\n",
       "    <tr>\n",
       "      <th>1590</th>\n",
       "      <td>Villa</td>\n",
       "      <td>Torgvägen 20</td>\n",
       "      <td>TUREBERG</td>\n",
       "      <td>144.0</td>\n",
       "      <td>99.0</td>\n",
       "      <td>6.0</td>\n",
       "      <td>1074.0</td>\n",
       "      <td>0.0</td>\n",
       "      <td>2013-06-20</td>\n",
       "      <td>Fastighetsbyrån</td>\n",
       "      <td>3.0</td>\n",
       "      <td>3700000.0</td>\n",
       "    </tr>\n",
       "    <tr>\n",
       "      <th>1591</th>\n",
       "      <td>Villa</td>\n",
       "      <td>Johannelundsvägen 3b</td>\n",
       "      <td>FÅGELSÅNGEN</td>\n",
       "      <td>75.0</td>\n",
       "      <td>4.0</td>\n",
       "      <td>3.0</td>\n",
       "      <td>848.0</td>\n",
       "      <td>0.0</td>\n",
       "      <td>2013-06-19</td>\n",
       "      <td>Bjurfors</td>\n",
       "      <td>6.0</td>\n",
       "      <td>4400000.0</td>\n",
       "    </tr>\n",
       "    <tr>\n",
       "      <th>1592</th>\n",
       "      <td>Villa</td>\n",
       "      <td>Västervägen 26</td>\n",
       "      <td>HÄGGVIK</td>\n",
       "      <td>184.0</td>\n",
       "      <td>0.0</td>\n",
       "      <td>6.0</td>\n",
       "      <td>939.0</td>\n",
       "      <td>0.0</td>\n",
       "      <td>2013-06-18</td>\n",
       "      <td>Fastighetsbyrån</td>\n",
       "      <td>-1.0</td>\n",
       "      <td>5700000.0</td>\n",
       "    </tr>\n",
       "  </tbody>\n",
       "</table>\n",
       "<p>1593 rows × 12 columns</p>\n",
       "</div>"
      ],
      "text/plain": [
       "     house_type                                            address  \\\n",
       "0         Villa                                  Kavallerivägen 20   \n",
       "1        Radhus                                      Bäckvägen  7D   \n",
       "2         Villa                                     Humlevägen  23   \n",
       "3         Villa                                    Steglitsvägen 5   \n",
       "4        Radhus                                  Chaplins gränd 42   \n",
       "5         Villa                                    Malvastigen 24B   \n",
       "6        Radhus                                    Malungsvägen 78   \n",
       "7        Radhus                                  Tegelhagsvägen 27   \n",
       "8         Villa                                  Stenkullevägen 9B   \n",
       "9         Villa                                  Båtsmansvägen 31b   \n",
       "10       Radhus                                     Murkelvägen 36   \n",
       "11        Villa                                    Poppelvägen 10B   \n",
       "12       Radhus                                     Slottsvägen 25   \n",
       "13       Radhus                                      Linnés väg 48   \n",
       "14       Radhus                                       Jordgränd 30   \n",
       "15       Radhus                                     Porsvägen  188   \n",
       "16       Radhus                                       Allévägen 6R   \n",
       "17       Radhus                                       Allévägen 66   \n",
       "18       Radhus                                      Starrgränd 36   \n",
       "19        Villa                                       Minkvägen 14   \n",
       "20       Radhus                                    Timotejvägen 92   \n",
       "21        Villa                                      Basunvägen 12   \n",
       "22        Villa                                     Östervägen 30B   \n",
       "23       Radhus                             Fjärdingsmansvägen 246   \n",
       "24        Villa                                  Båtsmansvägen  3A   \n",
       "25       Radhus                                  Holmbodavägen  4K   \n",
       "26       Radhus                                  Kummelbyvägen  1B   \n",
       "27       Radhus                                      Scoutvägen 66   \n",
       "28       Radhus                                     Tennisvägen 41   \n",
       "29       Radhus                                     Soldatvägen 39   \n",
       "...         ...                                                ...   \n",
       "1563      Villa                                  Rävgärdsvägen 24b   \n",
       "1564      Villa                                  Kavallerivägen 26   \n",
       "1565      Villa                                       Lindvägen 4B   \n",
       "1566      Villa                                       Bergstigen 2   \n",
       "1567      Villa                                      Landsvägen 29   \n",
       "1568      Villa                                    Anhaltsvägen 57   \n",
       "1569     Radhus                                   Rådjursstigen 29   \n",
       "1570      Villa                                       Aspvägen 13a   \n",
       "1571     Radhus                                    Rudbecks Väg 41   \n",
       "1572      Villa                                   Tolvmansvägen 28   \n",
       "1573     Radhus                                   Domherrevägen 63   \n",
       "1574      Villa                                      Linnés väg 49   \n",
       "1575     Radhus                                     Fagottvägen 27   \n",
       "1576     Radhus                                     Tungels väg 13   \n",
       "1577     Radhus                                 Lantgårdsvägen 132   \n",
       "1578     Radhus                                  Lantgårdsvägen 94   \n",
       "1579     Radhus                                    Klockargränd 16   \n",
       "1580     Radhus                                     Scoutvägen 104   \n",
       "1581     Radhus                                     Malvastigen 7F   \n",
       "1582     Radhus                                      Aspvägen 24 H   \n",
       "1583     Radhus  Rudbecks Väg 6 - OBS Visningen inställd, Huset...   \n",
       "1584     Radhus                                  Lantgårdsvägen 3C   \n",
       "1585     Radhus                                     Lillies Väg 71   \n",
       "1586     Radhus                                        Ryavägen 52   \n",
       "1587      Villa                                        Ryavägen 37   \n",
       "1588      Villa                                       Tallvägen 6B   \n",
       "1589     Radhus                                       Aspvägen 22A   \n",
       "1590      Villa                                       Torgvägen 20   \n",
       "1591      Villa                               Johannelundsvägen 3b   \n",
       "1592      Villa                                     Västervägen 26   \n",
       "\n",
       "           region   area  sup_area  rooms  land_area  monthly_fee   date_sold  \\\n",
       "0         ROTEBRO  127.0      77.0    6.0      919.0          0.0  2019-02-20   \n",
       "1            VIBY  118.0       6.0    5.0      222.0          0.0  2019-02-16   \n",
       "2            VIBY  193.0      30.0    7.0     1086.0          0.0  2019-02-14   \n",
       "3         SJÖBERG  157.0      41.0    6.0      768.6          0.0  2019-02-11   \n",
       "4         ROTEBRO  105.0       0.0    4.0      110.0          0.0  2019-02-07   \n",
       "5         EDSBERG   86.0      30.0    4.0      983.0          0.0  2019-02-07   \n",
       "6            VIBY  137.0       0.0    4.0      257.0          0.0  2019-02-06   \n",
       "7      TEGELHAGEN  126.5       0.0    5.5        0.0       6380.0  2019-02-05   \n",
       "8            VIBY  147.0       0.0    6.0     1032.4          0.0  2019-02-03   \n",
       "9      TÖRNSKOGEN  153.0     104.0    6.0     1201.0          0.0  2019-02-03   \n",
       "10    KVARNSKOGEN  150.0      26.0    6.0      470.0          0.0  2019-02-02   \n",
       "11    FÅGELSÅNGEN  133.0     133.0    4.0      976.0          0.0  2019-01-31   \n",
       "12      LANDSNORA   97.0       0.0    4.0        0.0       3356.0  2019-01-31   \n",
       "13        HÄGGVIK  103.0       0.0    4.0      208.0          0.0  2019-01-28   \n",
       "14           VIBY  109.2       0.0    4.0        0.0       4895.0  2019-01-28   \n",
       "15        WAXMORA  116.0       9.0    5.0      191.0          0.0  2019-01-25   \n",
       "16        ROTEBRO   94.5       0.0    4.0        0.0       5087.0  2019-01-25   \n",
       "17         GILLBO  180.0       0.0    7.0      649.0          0.0  2019-01-24   \n",
       "18           VIBY  126.0       0.0    5.0      168.0          0.0  2019-01-23   \n",
       "19     TEGELHAGEN  120.0       0.0    5.0      253.0          0.0  2019-01-23   \n",
       "20        ROTEBRO  117.0      41.0    6.0      118.0          0.0  2019-01-23   \n",
       "21           VIBY  121.5       0.0    6.0        0.0       6500.0  2019-01-23   \n",
       "22        HÄGGVIK  188.0      37.0    5.0     1060.0          0.0  2019-01-18   \n",
       "23      NORRVIKEN  115.0       0.0    4.0      210.0          0.0  2019-01-18   \n",
       "24     TÖRNSKOGEN  158.0      85.0    6.0     1497.0          0.0  2019-01-18   \n",
       "25           VIBY  173.0      23.0    9.0      736.0          0.0  2019-01-18   \n",
       "26     HELENELUND  128.0       7.0    5.0      297.0          0.0  2019-01-18   \n",
       "27     TEGELHAGEN   79.0       0.0    3.0        0.0       4989.0  2019-01-18   \n",
       "28        ROTEBRO  136.0      34.0    7.0      454.0          0.0  2019-01-17   \n",
       "29           VIBY   42.0       0.0    2.0        0.0       4302.0  2019-01-16   \n",
       "...           ...    ...       ...    ...        ...          ...         ...   \n",
       "1563         VIBY  218.0      31.0    9.0     1040.0          0.0  2013-09-04   \n",
       "1564      ROTEBRO  164.0      46.0    7.0     1077.0          0.0  2013-09-03   \n",
       "1565    NORRVIKEN  130.0      30.0    4.0      737.0          0.0  2013-09-03   \n",
       "1566    NORRVIKEN  160.0      55.0    NaN      891.0          0.0  2013-08-31   \n",
       "1567    NORRVIKEN  260.0       0.0    8.0     1031.0          0.0  2013-08-29   \n",
       "1568     EDSVIKEN  229.0     146.0    6.0     1512.0          0.0  2013-08-29   \n",
       "1569       TÖJNAN   94.0       0.0    4.0        0.0       4084.0  2013-08-24   \n",
       "1570   HELENELUND  167.0      44.0    7.0     1036.0          0.0  2013-08-23   \n",
       "1571      EDSBERG   98.0       0.0    4.0        0.0       3466.0  2013-08-23   \n",
       "1572    NORRVIKEN  108.0     105.0    7.0      715.0          0.0  2013-08-21   \n",
       "1573      SJÖBERG  148.0      27.0    7.0      412.0          0.0  2013-08-20   \n",
       "1574      HÄGGVIK  116.0      57.0    6.0      962.0          0.0  2013-08-16   \n",
       "1575         VIBY   80.0       7.5    3.0        0.0       4882.0  2013-08-15   \n",
       "1576         VIBY   60.0       0.0    2.0        0.0       4276.0  2013-08-15   \n",
       "1577         VIBY   84.0       0.0    3.0        0.0       4224.0  2013-08-14   \n",
       "1578         VIBY   84.0       0.0    3.5        0.0       4224.0  2013-08-14   \n",
       "1579    NORRVIKEN  160.0      36.0    7.0      184.0          0.0  2013-08-09   \n",
       "1580   TEGELHAGEN  122.5       0.0    5.0        0.0       6993.0  2013-08-09   \n",
       "1581      EDSBERG   89.0       0.0    4.0      132.0          0.0  2013-08-09   \n",
       "1582  FÅGELSÅNGEN  103.0       0.0    4.0        0.0       4750.0  2013-08-07   \n",
       "1583      EDSBERG  119.0      11.0    5.0        0.0       3999.0  2013-08-06   \n",
       "1584         VIBY  130.0       0.0    4.0        0.0       5918.0  2013-07-18   \n",
       "1585         VIBY   61.5       0.0    2.0        0.0       3165.0  2013-07-05   \n",
       "1586       TÖJNAN  126.0       0.0    5.0      171.0          0.0  2013-07-04   \n",
       "1587       TÖJNAN  163.0       0.0    6.0     1104.0          0.0  2013-06-30   \n",
       "1588   HELENELUND  125.0      80.0    6.0      838.0          0.0  2013-06-28   \n",
       "1589   HELENELUND  103.0       0.0    5.0        0.0       4750.0  2013-06-28   \n",
       "1590     TUREBERG  144.0      99.0    6.0     1074.0          0.0  2013-06-20   \n",
       "1591  FÅGELSÅNGEN   75.0       4.0    3.0      848.0          0.0  2013-06-19   \n",
       "1592      HÄGGVIK  184.0       0.0    6.0      939.0          0.0  2013-06-18   \n",
       "\n",
       "                                     broker  price_change_pct       price  \n",
       "0                           Fastighetsbyrån              -2.0   5200000.0  \n",
       "1                                     Notar              16.0   4000000.0  \n",
       "2     Länsförsäkringar Fastighetsförmedling              10.0  11850000.0  \n",
       "3                           Fastighetsbyrån               6.0   7300000.0  \n",
       "4                           Fastighetsbyrån               0.0   3995000.0  \n",
       "5               Svensk Fastighetsförmedling               7.0   5600000.0  \n",
       "6                           Fastighetsbyrån               3.0   4525000.0  \n",
       "7     Länsförsäkringar Fastighetsförmedling               6.0   6350000.0  \n",
       "8                             HusmanHagberg               3.0   7720000.0  \n",
       "9     Länsförsäkringar Fastighetsförmedling               0.0   6700000.0  \n",
       "10    Länsförsäkringar Fastighetsförmedling               9.0   6560000.0  \n",
       "11                          Fastighetsbyrån              -3.0   7225000.0  \n",
       "12    Länsförsäkringar Fastighetsförmedling               5.0   4925000.0  \n",
       "13                          Fastighetsbyrån               1.0   4245000.0  \n",
       "14                            HusmanHagberg               3.0   4475000.0  \n",
       "15                                    Notar              -2.0   3900000.0  \n",
       "16                                    Notar               6.0   3150000.0  \n",
       "17                          Fastighetsbyrån               5.0   6800000.0  \n",
       "18                          Fastighetsbyrån              -6.0   4000000.0  \n",
       "19                          Fastighetsbyrån               6.0   6350000.0  \n",
       "20                          Fastighetsbyrån               4.0   3650000.0  \n",
       "21    Länsförsäkringar Fastighetsförmedling              14.0   4430000.0  \n",
       "22                          Fastighetsbyrån              -3.0   6800000.0  \n",
       "23                              Mäklarhuset              11.0   4225000.0  \n",
       "24    Länsförsäkringar Fastighetsförmedling               4.0   5700000.0  \n",
       "25           Magnusson Mäkleri Östermalm AB               0.0   5000000.0  \n",
       "26                              Mäklarhuset              -4.0   5750000.0  \n",
       "27    Länsförsäkringar Fastighetsförmedling               0.0   4300000.0  \n",
       "28                          Fastighetsbyrån              -7.0   5000000.0  \n",
       "29                              Mäklarhuset               0.0   1595000.0  \n",
       "...                                     ...               ...         ...  \n",
       "1563                                  Notar               3.0   6650000.0  \n",
       "1564                               Bjurfors               0.0   3235000.0  \n",
       "1565                        Fastighetsbyrån              -5.0   3985000.0  \n",
       "1566                               Bjurfors              -5.0   6300000.0  \n",
       "1567                        Fastighetsbyrån             -12.0   5750000.0  \n",
       "1568                        Fastighetsbyrån              19.0   9500000.0  \n",
       "1569                               Bjurfors               0.0   2795000.0  \n",
       "1570                               Bjurfors               0.0   5450000.0  \n",
       "1571                                  Notar              14.0   3275000.0  \n",
       "1572                        Fastighetsbyrån              22.0   4860000.0  \n",
       "1573                        Fastighetsbyrån               0.0   3995000.0  \n",
       "1574                        Fastighetsbyrån               0.0   3975000.0  \n",
       "1575                            Mäklarhuset               3.0   2460000.0  \n",
       "1576                            Mäklarhuset              17.0   1750000.0  \n",
       "1577                            Mäklarhuset              15.0   2650000.0  \n",
       "1578                            Mäklarhuset               1.0   2125000.0  \n",
       "1579                               Bjurfors              -3.0   3700000.0  \n",
       "1580                        Fastighetsbyrån               2.0   4050000.0  \n",
       "1581                        Fastighetsbyrån               8.0   3070000.0  \n",
       "1582                                  Notar               0.0   2900000.0  \n",
       "1583                                  Notar               0.0   3450000.0  \n",
       "1584                               Bjurfors               0.0   2990000.0  \n",
       "1585                                  Notar              27.0   1770000.0  \n",
       "1586                        Fastighetsbyrån               6.0   2800000.0  \n",
       "1587                        Fastighetsbyrån              -2.0   5000000.0  \n",
       "1588                        Fastighetsbyrån               2.0   4600000.0  \n",
       "1589                        Fastighetsbyrån               7.0   2875000.0  \n",
       "1590                        Fastighetsbyrån               3.0   3700000.0  \n",
       "1591                               Bjurfors               6.0   4400000.0  \n",
       "1592                        Fastighetsbyrån              -1.0   5700000.0  \n",
       "\n",
       "[1593 rows x 12 columns]"
      ]
     },
     "execution_count": 8,
     "metadata": {},
     "output_type": "execute_result"
    }
   ],
   "source": [
    "df['sup_area'] = np.where(df['sup_area'].isnull(), 0, df['sup_area'])\n",
    "df['monthly_fee'] = np.where(df['monthly_fee'].isnull(), 0, df['monthly_fee'])\n",
    "df['price_change_pct'] = np.where(df['price_change_pct'].isnull(), 0, df['price_change_pct'])\n",
    "df['land_area'] = np.where(df['land_area'].isnull(), 0, df['land_area'])\n",
    "df"
   ]
  },
  {
   "cell_type": "code",
   "execution_count": 9,
   "metadata": {},
   "outputs": [
    {
     "data": {
      "text/plain": [
       "house_type           0\n",
       "address              1\n",
       "region               0\n",
       "area                 1\n",
       "sup_area             0\n",
       "rooms               11\n",
       "land_area            0\n",
       "monthly_fee          0\n",
       "date_sold            0\n",
       "broker               0\n",
       "price_change_pct     0\n",
       "price                0\n",
       "dtype: int64"
      ]
     },
     "execution_count": 9,
     "metadata": {},
     "output_type": "execute_result"
    }
   ],
   "source": [
    "df.isnull().sum()"
   ]
  },
  {
   "cell_type": "code",
   "execution_count": 10,
   "metadata": {},
   "outputs": [
    {
     "name": "stdout",
     "output_type": "stream",
     "text": [
      "house_type          1593\n",
      "address             1592\n",
      "region              1593\n",
      "area                1592\n",
      "sup_area            1593\n",
      "rooms               1582\n",
      "land_area           1593\n",
      "monthly_fee         1593\n",
      "date_sold           1593\n",
      "broker              1593\n",
      "price_change_pct    1593\n",
      "price               1593\n",
      "dtype: int64\n"
     ]
    }
   ],
   "source": [
    "print(df.count())\n",
    "df = df[df.address.isnull() == False]\n",
    "df = df[df.area.isnull() == False]"
   ]
  },
  {
   "cell_type": "code",
   "execution_count": 11,
   "metadata": {},
   "outputs": [
    {
     "data": {
      "text/html": [
       "<div>\n",
       "<style scoped>\n",
       "    .dataframe tbody tr th:only-of-type {\n",
       "        vertical-align: middle;\n",
       "    }\n",
       "\n",
       "    .dataframe tbody tr th {\n",
       "        vertical-align: top;\n",
       "    }\n",
       "\n",
       "    .dataframe thead th {\n",
       "        text-align: right;\n",
       "    }\n",
       "</style>\n",
       "<table border=\"1\" class=\"dataframe\">\n",
       "  <thead>\n",
       "    <tr style=\"text-align: right;\">\n",
       "      <th></th>\n",
       "      <th>house_type</th>\n",
       "      <th>address</th>\n",
       "      <th>region</th>\n",
       "      <th>area</th>\n",
       "      <th>sup_area</th>\n",
       "      <th>rooms</th>\n",
       "      <th>land_area</th>\n",
       "      <th>monthly_fee</th>\n",
       "      <th>date_sold</th>\n",
       "      <th>broker</th>\n",
       "      <th>price_change_pct</th>\n",
       "      <th>price</th>\n",
       "    </tr>\n",
       "  </thead>\n",
       "  <tbody>\n",
       "    <tr>\n",
       "      <th>153</th>\n",
       "      <td>Villa</td>\n",
       "      <td>Sveavägen 53</td>\n",
       "      <td>TÖJNAN</td>\n",
       "      <td>151.0</td>\n",
       "      <td>35.0</td>\n",
       "      <td>NaN</td>\n",
       "      <td>1298.0</td>\n",
       "      <td>0.0</td>\n",
       "      <td>2018-07-18</td>\n",
       "      <td>Notar</td>\n",
       "      <td>-6.0</td>\n",
       "      <td>6100000.0</td>\n",
       "    </tr>\n",
       "    <tr>\n",
       "      <th>183</th>\n",
       "      <td>Villa</td>\n",
       "      <td>Åkervägen 76</td>\n",
       "      <td>HELENELUND</td>\n",
       "      <td>84.0</td>\n",
       "      <td>48.0</td>\n",
       "      <td>NaN</td>\n",
       "      <td>1321.0</td>\n",
       "      <td>0.0</td>\n",
       "      <td>2018-06-14</td>\n",
       "      <td>Fastighetsbyrån</td>\n",
       "      <td>-4.0</td>\n",
       "      <td>4710000.0</td>\n",
       "    </tr>\n",
       "    <tr>\n",
       "      <th>184</th>\n",
       "      <td>Villa</td>\n",
       "      <td>Kanalvägen 20</td>\n",
       "      <td>VIBY</td>\n",
       "      <td>174.0</td>\n",
       "      <td>126.0</td>\n",
       "      <td>NaN</td>\n",
       "      <td>1107.0</td>\n",
       "      <td>0.0</td>\n",
       "      <td>2018-06-14</td>\n",
       "      <td>Notar</td>\n",
       "      <td>1.0</td>\n",
       "      <td>7000000.0</td>\n",
       "    </tr>\n",
       "    <tr>\n",
       "      <th>596</th>\n",
       "      <td>Villa</td>\n",
       "      <td>Vasavägen 211</td>\n",
       "      <td>ROTEBRO</td>\n",
       "      <td>108.0</td>\n",
       "      <td>41.0</td>\n",
       "      <td>NaN</td>\n",
       "      <td>263.0</td>\n",
       "      <td>0.0</td>\n",
       "      <td>2017-03-10</td>\n",
       "      <td>Notar</td>\n",
       "      <td>-1.0</td>\n",
       "      <td>5400000.0</td>\n",
       "    </tr>\n",
       "    <tr>\n",
       "      <th>711</th>\n",
       "      <td>Villa</td>\n",
       "      <td>Stationsvägen 3b</td>\n",
       "      <td>NORRVIKEN</td>\n",
       "      <td>168.0</td>\n",
       "      <td>95.0</td>\n",
       "      <td>NaN</td>\n",
       "      <td>1114.0</td>\n",
       "      <td>0.0</td>\n",
       "      <td>2016-10-08</td>\n",
       "      <td>Svensk Fastighetsförmedling</td>\n",
       "      <td>1.0</td>\n",
       "      <td>8575000.0</td>\n",
       "    </tr>\n",
       "    <tr>\n",
       "      <th>861</th>\n",
       "      <td>Villa</td>\n",
       "      <td>Husarvägen 18</td>\n",
       "      <td>ROTEBRO</td>\n",
       "      <td>94.0</td>\n",
       "      <td>94.0</td>\n",
       "      <td>NaN</td>\n",
       "      <td>1024.0</td>\n",
       "      <td>0.0</td>\n",
       "      <td>2016-05-03</td>\n",
       "      <td>HusmanHagberg</td>\n",
       "      <td>15.0</td>\n",
       "      <td>4480000.0</td>\n",
       "    </tr>\n",
       "    <tr>\n",
       "      <th>1112</th>\n",
       "      <td>Villa</td>\n",
       "      <td>Sveavägen 43</td>\n",
       "      <td>TÖJNAN</td>\n",
       "      <td>123.0</td>\n",
       "      <td>151.0</td>\n",
       "      <td>NaN</td>\n",
       "      <td>965.0</td>\n",
       "      <td>0.0</td>\n",
       "      <td>2015-05-27</td>\n",
       "      <td>Svensk Fastighetsförmedling</td>\n",
       "      <td>13.0</td>\n",
       "      <td>6500000.0</td>\n",
       "    </tr>\n",
       "    <tr>\n",
       "      <th>1383</th>\n",
       "      <td>Villa</td>\n",
       "      <td>Skillingevägen 10A</td>\n",
       "      <td>VIBY</td>\n",
       "      <td>158.0</td>\n",
       "      <td>38.0</td>\n",
       "      <td>NaN</td>\n",
       "      <td>1077.0</td>\n",
       "      <td>0.0</td>\n",
       "      <td>2014-05-29</td>\n",
       "      <td>Svensk Fastighetsförmedling</td>\n",
       "      <td>-1.0</td>\n",
       "      <td>4925000.0</td>\n",
       "    </tr>\n",
       "    <tr>\n",
       "      <th>1553</th>\n",
       "      <td>Villa</td>\n",
       "      <td>Mantalsvägen 6</td>\n",
       "      <td>HÄGGVIK</td>\n",
       "      <td>110.0</td>\n",
       "      <td>65.0</td>\n",
       "      <td>NaN</td>\n",
       "      <td>1084.0</td>\n",
       "      <td>0.0</td>\n",
       "      <td>2013-09-13</td>\n",
       "      <td>Mäklarhuset</td>\n",
       "      <td>8.0</td>\n",
       "      <td>3650000.0</td>\n",
       "    </tr>\n",
       "    <tr>\n",
       "      <th>1566</th>\n",
       "      <td>Villa</td>\n",
       "      <td>Bergstigen 2</td>\n",
       "      <td>NORRVIKEN</td>\n",
       "      <td>160.0</td>\n",
       "      <td>55.0</td>\n",
       "      <td>NaN</td>\n",
       "      <td>891.0</td>\n",
       "      <td>0.0</td>\n",
       "      <td>2013-08-31</td>\n",
       "      <td>Bjurfors</td>\n",
       "      <td>-5.0</td>\n",
       "      <td>6300000.0</td>\n",
       "    </tr>\n",
       "  </tbody>\n",
       "</table>\n",
       "</div>"
      ],
      "text/plain": [
       "     house_type             address      region   area  sup_area  rooms  \\\n",
       "153       Villa        Sveavägen 53      TÖJNAN  151.0      35.0    NaN   \n",
       "183       Villa        Åkervägen 76  HELENELUND   84.0      48.0    NaN   \n",
       "184       Villa       Kanalvägen 20        VIBY  174.0     126.0    NaN   \n",
       "596       Villa       Vasavägen 211     ROTEBRO  108.0      41.0    NaN   \n",
       "711       Villa    Stationsvägen 3b   NORRVIKEN  168.0      95.0    NaN   \n",
       "861       Villa       Husarvägen 18     ROTEBRO   94.0      94.0    NaN   \n",
       "1112      Villa        Sveavägen 43      TÖJNAN  123.0     151.0    NaN   \n",
       "1383      Villa  Skillingevägen 10A        VIBY  158.0      38.0    NaN   \n",
       "1553      Villa      Mantalsvägen 6     HÄGGVIK  110.0      65.0    NaN   \n",
       "1566      Villa        Bergstigen 2   NORRVIKEN  160.0      55.0    NaN   \n",
       "\n",
       "      land_area  monthly_fee   date_sold                       broker  \\\n",
       "153      1298.0          0.0  2018-07-18                        Notar   \n",
       "183      1321.0          0.0  2018-06-14              Fastighetsbyrån   \n",
       "184      1107.0          0.0  2018-06-14                        Notar   \n",
       "596       263.0          0.0  2017-03-10                        Notar   \n",
       "711      1114.0          0.0  2016-10-08  Svensk Fastighetsförmedling   \n",
       "861      1024.0          0.0  2016-05-03                HusmanHagberg   \n",
       "1112      965.0          0.0  2015-05-27  Svensk Fastighetsförmedling   \n",
       "1383     1077.0          0.0  2014-05-29  Svensk Fastighetsförmedling   \n",
       "1553     1084.0          0.0  2013-09-13                  Mäklarhuset   \n",
       "1566      891.0          0.0  2013-08-31                     Bjurfors   \n",
       "\n",
       "      price_change_pct      price  \n",
       "153               -6.0  6100000.0  \n",
       "183               -4.0  4710000.0  \n",
       "184                1.0  7000000.0  \n",
       "596               -1.0  5400000.0  \n",
       "711                1.0  8575000.0  \n",
       "861               15.0  4480000.0  \n",
       "1112              13.0  6500000.0  \n",
       "1383              -1.0  4925000.0  \n",
       "1553               8.0  3650000.0  \n",
       "1566              -5.0  6300000.0  "
      ]
     },
     "execution_count": 11,
     "metadata": {},
     "output_type": "execute_result"
    }
   ],
   "source": [
    "df[df.rooms.isnull()]"
   ]
  },
  {
   "cell_type": "code",
   "execution_count": 12,
   "metadata": {},
   "outputs": [
    {
     "name": "stdout",
     "output_type": "stream",
     "text": [
      "25.0\n"
     ]
    }
   ],
   "source": [
    "df_copy = df.copy()\n",
    "df_copy = df_copy[df_copy.rooms.isnull() == False]\n",
    "df_copy['area_per_room'] = df_copy['area']/df_copy['rooms']\n",
    "print(np.round(df_copy.area_per_room.mean(),0))"
   ]
  },
  {
   "cell_type": "code",
   "execution_count": 13,
   "metadata": {},
   "outputs": [],
   "source": [
    "df['rooms'] = np.where(df['rooms'].isnull(), np.round(df['area']/25, 0), df['rooms'])"
   ]
  },
  {
   "cell_type": "code",
   "execution_count": 14,
   "metadata": {},
   "outputs": [
    {
     "data": {
      "text/plain": [
       "house_type          0\n",
       "address             0\n",
       "region              0\n",
       "area                0\n",
       "sup_area            0\n",
       "rooms               0\n",
       "land_area           0\n",
       "monthly_fee         0\n",
       "date_sold           0\n",
       "broker              0\n",
       "price_change_pct    0\n",
       "price               0\n",
       "dtype: int64"
      ]
     },
     "execution_count": 14,
     "metadata": {},
     "output_type": "execute_result"
    }
   ],
   "source": [
    "df.isnull().sum()"
   ]
  },
  {
   "cell_type": "code",
   "execution_count": 15,
   "metadata": {},
   "outputs": [
    {
     "data": {
      "text/html": [
       "<div>\n",
       "<style scoped>\n",
       "    .dataframe tbody tr th:only-of-type {\n",
       "        vertical-align: middle;\n",
       "    }\n",
       "\n",
       "    .dataframe tbody tr th {\n",
       "        vertical-align: top;\n",
       "    }\n",
       "\n",
       "    .dataframe thead th {\n",
       "        text-align: right;\n",
       "    }\n",
       "</style>\n",
       "<table border=\"1\" class=\"dataframe\">\n",
       "  <thead>\n",
       "    <tr style=\"text-align: right;\">\n",
       "      <th></th>\n",
       "      <th>house_type</th>\n",
       "      <th>address</th>\n",
       "      <th>region</th>\n",
       "      <th>area</th>\n",
       "      <th>sup_area</th>\n",
       "      <th>rooms</th>\n",
       "      <th>land_area</th>\n",
       "      <th>monthly_fee</th>\n",
       "      <th>date_sold</th>\n",
       "      <th>broker</th>\n",
       "      <th>price_change_pct</th>\n",
       "      <th>price</th>\n",
       "      <th>total_area</th>\n",
       "      <th>price_per_sqm</th>\n",
       "      <th>price_per_tsqm</th>\n",
       "      <th>list_price</th>\n",
       "    </tr>\n",
       "  </thead>\n",
       "  <tbody>\n",
       "    <tr>\n",
       "      <th>0</th>\n",
       "      <td>Villa</td>\n",
       "      <td>Kavallerivägen 20</td>\n",
       "      <td>ROTEBRO</td>\n",
       "      <td>127.0</td>\n",
       "      <td>77.0</td>\n",
       "      <td>6.0</td>\n",
       "      <td>919.0</td>\n",
       "      <td>0.0</td>\n",
       "      <td>2019-02-20</td>\n",
       "      <td>Fastighetsbyrån</td>\n",
       "      <td>-2.0</td>\n",
       "      <td>5200000.0</td>\n",
       "      <td>204.0</td>\n",
       "      <td>40944.881890</td>\n",
       "      <td>25490.196078</td>\n",
       "      <td>5306000.0</td>\n",
       "    </tr>\n",
       "    <tr>\n",
       "      <th>1</th>\n",
       "      <td>Radhus</td>\n",
       "      <td>Bäckvägen  7D</td>\n",
       "      <td>VIBY</td>\n",
       "      <td>118.0</td>\n",
       "      <td>6.0</td>\n",
       "      <td>5.0</td>\n",
       "      <td>222.0</td>\n",
       "      <td>0.0</td>\n",
       "      <td>2019-02-16</td>\n",
       "      <td>Notar</td>\n",
       "      <td>16.0</td>\n",
       "      <td>4000000.0</td>\n",
       "      <td>124.0</td>\n",
       "      <td>33898.305085</td>\n",
       "      <td>32258.064516</td>\n",
       "      <td>3448000.0</td>\n",
       "    </tr>\n",
       "    <tr>\n",
       "      <th>2</th>\n",
       "      <td>Villa</td>\n",
       "      <td>Humlevägen  23</td>\n",
       "      <td>VIBY</td>\n",
       "      <td>193.0</td>\n",
       "      <td>30.0</td>\n",
       "      <td>7.0</td>\n",
       "      <td>1086.0</td>\n",
       "      <td>0.0</td>\n",
       "      <td>2019-02-14</td>\n",
       "      <td>Länsförsäkringar Fastighetsförmedling</td>\n",
       "      <td>10.0</td>\n",
       "      <td>11850000.0</td>\n",
       "      <td>223.0</td>\n",
       "      <td>61398.963731</td>\n",
       "      <td>53139.013453</td>\n",
       "      <td>10773000.0</td>\n",
       "    </tr>\n",
       "    <tr>\n",
       "      <th>3</th>\n",
       "      <td>Villa</td>\n",
       "      <td>Steglitsvägen 5</td>\n",
       "      <td>SJÖBERG</td>\n",
       "      <td>157.0</td>\n",
       "      <td>41.0</td>\n",
       "      <td>6.0</td>\n",
       "      <td>768.6</td>\n",
       "      <td>0.0</td>\n",
       "      <td>2019-02-11</td>\n",
       "      <td>Fastighetsbyrån</td>\n",
       "      <td>6.0</td>\n",
       "      <td>7300000.0</td>\n",
       "      <td>198.0</td>\n",
       "      <td>46496.815287</td>\n",
       "      <td>36868.686869</td>\n",
       "      <td>6887000.0</td>\n",
       "    </tr>\n",
       "    <tr>\n",
       "      <th>4</th>\n",
       "      <td>Radhus</td>\n",
       "      <td>Chaplins gränd 42</td>\n",
       "      <td>ROTEBRO</td>\n",
       "      <td>105.0</td>\n",
       "      <td>0.0</td>\n",
       "      <td>4.0</td>\n",
       "      <td>110.0</td>\n",
       "      <td>0.0</td>\n",
       "      <td>2019-02-07</td>\n",
       "      <td>Fastighetsbyrån</td>\n",
       "      <td>0.0</td>\n",
       "      <td>3995000.0</td>\n",
       "      <td>105.0</td>\n",
       "      <td>38047.619048</td>\n",
       "      <td>38047.619048</td>\n",
       "      <td>3995000.0</td>\n",
       "    </tr>\n",
       "  </tbody>\n",
       "</table>\n",
       "</div>"
      ],
      "text/plain": [
       "  house_type            address   region   area  sup_area  rooms  land_area  \\\n",
       "0      Villa  Kavallerivägen 20  ROTEBRO  127.0      77.0    6.0      919.0   \n",
       "1     Radhus      Bäckvägen  7D     VIBY  118.0       6.0    5.0      222.0   \n",
       "2      Villa     Humlevägen  23     VIBY  193.0      30.0    7.0     1086.0   \n",
       "3      Villa    Steglitsvägen 5  SJÖBERG  157.0      41.0    6.0      768.6   \n",
       "4     Radhus  Chaplins gränd 42  ROTEBRO  105.0       0.0    4.0      110.0   \n",
       "\n",
       "   monthly_fee   date_sold                                 broker  \\\n",
       "0          0.0  2019-02-20                        Fastighetsbyrån   \n",
       "1          0.0  2019-02-16                                  Notar   \n",
       "2          0.0  2019-02-14  Länsförsäkringar Fastighetsförmedling   \n",
       "3          0.0  2019-02-11                        Fastighetsbyrån   \n",
       "4          0.0  2019-02-07                        Fastighetsbyrån   \n",
       "\n",
       "   price_change_pct       price  total_area  price_per_sqm  price_per_tsqm  \\\n",
       "0              -2.0   5200000.0       204.0   40944.881890    25490.196078   \n",
       "1              16.0   4000000.0       124.0   33898.305085    32258.064516   \n",
       "2              10.0  11850000.0       223.0   61398.963731    53139.013453   \n",
       "3               6.0   7300000.0       198.0   46496.815287    36868.686869   \n",
       "4               0.0   3995000.0       105.0   38047.619048    38047.619048   \n",
       "\n",
       "   list_price  \n",
       "0   5306000.0  \n",
       "1   3448000.0  \n",
       "2  10773000.0  \n",
       "3   6887000.0  \n",
       "4   3995000.0  "
      ]
     },
     "execution_count": 15,
     "metadata": {},
     "output_type": "execute_result"
    }
   ],
   "source": [
    "df['total_area'] = df['area'] + df['sup_area']\n",
    "df['price_per_sqm'] = df['price'] / df['area']\n",
    "df['price_per_tsqm'] = df['price'] / df['total_area']\n",
    "df['list_price'] = np.round((df['price'] * 100 / (100 + df['price_change_pct']))/1000, 0)*1000 \n",
    "df.head()"
   ]
  },
  {
   "cell_type": "code",
   "execution_count": 16,
   "metadata": {},
   "outputs": [],
   "source": [
    "df.to_csv('houses_clean.csv',index=False)"
   ]
  },
  {
   "cell_type": "code",
   "execution_count": 17,
   "metadata": {},
   "outputs": [
    {
     "data": {
      "text/html": [
       "<div>\n",
       "<style scoped>\n",
       "    .dataframe tbody tr th:only-of-type {\n",
       "        vertical-align: middle;\n",
       "    }\n",
       "\n",
       "    .dataframe tbody tr th {\n",
       "        vertical-align: top;\n",
       "    }\n",
       "\n",
       "    .dataframe thead th {\n",
       "        text-align: right;\n",
       "    }\n",
       "</style>\n",
       "<table border=\"1\" class=\"dataframe\">\n",
       "  <thead>\n",
       "    <tr style=\"text-align: right;\">\n",
       "      <th></th>\n",
       "      <th>house_type</th>\n",
       "      <th>address</th>\n",
       "      <th>region</th>\n",
       "      <th>area</th>\n",
       "      <th>sup_area</th>\n",
       "      <th>rooms</th>\n",
       "      <th>land_area</th>\n",
       "      <th>monthly_fee</th>\n",
       "      <th>date_sold</th>\n",
       "      <th>broker</th>\n",
       "      <th>price_change_pct</th>\n",
       "      <th>price</th>\n",
       "      <th>total_area</th>\n",
       "      <th>price_per_sqm</th>\n",
       "      <th>price_per_tsqm</th>\n",
       "      <th>list_price</th>\n",
       "    </tr>\n",
       "  </thead>\n",
       "  <tbody>\n",
       "    <tr>\n",
       "      <th>120</th>\n",
       "      <td>Radhus</td>\n",
       "      <td>Marsgränd 16</td>\n",
       "      <td>TUREBERG</td>\n",
       "      <td>110.0</td>\n",
       "      <td>15.0</td>\n",
       "      <td>4.0</td>\n",
       "      <td>156.0</td>\n",
       "      <td>0.0</td>\n",
       "      <td>2018-09-05</td>\n",
       "      <td>Notar</td>\n",
       "      <td>4.0</td>\n",
       "      <td>4980000.0</td>\n",
       "      <td>125.0</td>\n",
       "      <td>45272.727273</td>\n",
       "      <td>39840.000000</td>\n",
       "      <td>4788000.0</td>\n",
       "    </tr>\n",
       "    <tr>\n",
       "      <th>155</th>\n",
       "      <td>Radhus</td>\n",
       "      <td>Marsgränd 24</td>\n",
       "      <td>TUREBERG</td>\n",
       "      <td>98.0</td>\n",
       "      <td>27.0</td>\n",
       "      <td>4.0</td>\n",
       "      <td>137.0</td>\n",
       "      <td>0.0</td>\n",
       "      <td>2018-07-14</td>\n",
       "      <td>Notar</td>\n",
       "      <td>11.0</td>\n",
       "      <td>5200000.0</td>\n",
       "      <td>125.0</td>\n",
       "      <td>53061.224490</td>\n",
       "      <td>41600.000000</td>\n",
       "      <td>4685000.0</td>\n",
       "    </tr>\n",
       "    <tr>\n",
       "      <th>688</th>\n",
       "      <td>Radhus</td>\n",
       "      <td>Marsgränd 41</td>\n",
       "      <td>TUREBERG</td>\n",
       "      <td>127.0</td>\n",
       "      <td>10.0</td>\n",
       "      <td>4.0</td>\n",
       "      <td>139.0</td>\n",
       "      <td>0.0</td>\n",
       "      <td>2016-10-28</td>\n",
       "      <td>HusmanHagberg</td>\n",
       "      <td>11.0</td>\n",
       "      <td>5520000.0</td>\n",
       "      <td>137.0</td>\n",
       "      <td>43464.566929</td>\n",
       "      <td>40291.970803</td>\n",
       "      <td>4973000.0</td>\n",
       "    </tr>\n",
       "    <tr>\n",
       "      <th>991</th>\n",
       "      <td>Radhus</td>\n",
       "      <td>Marsgränd 8</td>\n",
       "      <td>TUREBERG</td>\n",
       "      <td>98.0</td>\n",
       "      <td>27.0</td>\n",
       "      <td>4.0</td>\n",
       "      <td>153.0</td>\n",
       "      <td>0.0</td>\n",
       "      <td>2015-10-20</td>\n",
       "      <td>Notar</td>\n",
       "      <td>14.0</td>\n",
       "      <td>4550000.0</td>\n",
       "      <td>125.0</td>\n",
       "      <td>46428.571429</td>\n",
       "      <td>36400.000000</td>\n",
       "      <td>3991000.0</td>\n",
       "    </tr>\n",
       "  </tbody>\n",
       "</table>\n",
       "</div>"
      ],
      "text/plain": [
       "    house_type       address    region   area  sup_area  rooms  land_area  \\\n",
       "120     Radhus  Marsgränd 16  TUREBERG  110.0      15.0    4.0      156.0   \n",
       "155     Radhus  Marsgränd 24  TUREBERG   98.0      27.0    4.0      137.0   \n",
       "688     Radhus  Marsgränd 41  TUREBERG  127.0      10.0    4.0      139.0   \n",
       "991     Radhus   Marsgränd 8  TUREBERG   98.0      27.0    4.0      153.0   \n",
       "\n",
       "     monthly_fee   date_sold         broker  price_change_pct      price  \\\n",
       "120          0.0  2018-09-05          Notar               4.0  4980000.0   \n",
       "155          0.0  2018-07-14          Notar              11.0  5200000.0   \n",
       "688          0.0  2016-10-28  HusmanHagberg              11.0  5520000.0   \n",
       "991          0.0  2015-10-20          Notar              14.0  4550000.0   \n",
       "\n",
       "     total_area  price_per_sqm  price_per_tsqm  list_price  \n",
       "120       125.0   45272.727273    39840.000000   4788000.0  \n",
       "155       125.0   53061.224490    41600.000000   4685000.0  \n",
       "688       137.0   43464.566929    40291.970803   4973000.0  \n",
       "991       125.0   46428.571429    36400.000000   3991000.0  "
      ]
     },
     "execution_count": 17,
     "metadata": {},
     "output_type": "execute_result"
    }
   ],
   "source": [
    "df[df.address.str.contains('Marsgränd')]"
   ]
  },
  {
   "cell_type": "code",
   "execution_count": 18,
   "metadata": {},
   "outputs": [
    {
     "data": {
      "text/html": [
       "<div>\n",
       "<style scoped>\n",
       "    .dataframe tbody tr th:only-of-type {\n",
       "        vertical-align: middle;\n",
       "    }\n",
       "\n",
       "    .dataframe tbody tr th {\n",
       "        vertical-align: top;\n",
       "    }\n",
       "\n",
       "    .dataframe thead th {\n",
       "        text-align: right;\n",
       "    }\n",
       "</style>\n",
       "<table border=\"1\" class=\"dataframe\">\n",
       "  <thead>\n",
       "    <tr style=\"text-align: right;\">\n",
       "      <th></th>\n",
       "      <th>house_type</th>\n",
       "      <th>address</th>\n",
       "      <th>region</th>\n",
       "      <th>area</th>\n",
       "      <th>sup_area</th>\n",
       "      <th>rooms</th>\n",
       "      <th>land_area</th>\n",
       "      <th>monthly_fee</th>\n",
       "      <th>date_sold</th>\n",
       "      <th>broker</th>\n",
       "      <th>price_change_pct</th>\n",
       "      <th>price</th>\n",
       "      <th>total_area</th>\n",
       "      <th>price_per_sqm</th>\n",
       "      <th>price_per_tsqm</th>\n",
       "      <th>list_price</th>\n",
       "    </tr>\n",
       "  </thead>\n",
       "  <tbody>\n",
       "    <tr>\n",
       "      <th>532</th>\n",
       "      <td>Radhus</td>\n",
       "      <td>Merkurigränd 7</td>\n",
       "      <td>TUREBERG</td>\n",
       "      <td>125.0</td>\n",
       "      <td>15.0</td>\n",
       "      <td>5.0</td>\n",
       "      <td>136.0</td>\n",
       "      <td>0.0</td>\n",
       "      <td>2017-05-10</td>\n",
       "      <td>Fastighetsbyrån</td>\n",
       "      <td>5.0</td>\n",
       "      <td>5750000.0</td>\n",
       "      <td>140.0</td>\n",
       "      <td>46000.000000</td>\n",
       "      <td>41071.428571</td>\n",
       "      <td>5476000.0</td>\n",
       "    </tr>\n",
       "    <tr>\n",
       "      <th>903</th>\n",
       "      <td>Radhus</td>\n",
       "      <td>Merkurigränd 5</td>\n",
       "      <td>TUREBERG</td>\n",
       "      <td>120.0</td>\n",
       "      <td>15.0</td>\n",
       "      <td>4.0</td>\n",
       "      <td>136.0</td>\n",
       "      <td>0.0</td>\n",
       "      <td>2016-03-16</td>\n",
       "      <td>Notar</td>\n",
       "      <td>11.0</td>\n",
       "      <td>5950000.0</td>\n",
       "      <td>135.0</td>\n",
       "      <td>49583.333333</td>\n",
       "      <td>44074.074074</td>\n",
       "      <td>5360000.0</td>\n",
       "    </tr>\n",
       "  </tbody>\n",
       "</table>\n",
       "</div>"
      ],
      "text/plain": [
       "    house_type         address    region   area  sup_area  rooms  land_area  \\\n",
       "532     Radhus  Merkurigränd 7  TUREBERG  125.0      15.0    5.0      136.0   \n",
       "903     Radhus  Merkurigränd 5  TUREBERG  120.0      15.0    4.0      136.0   \n",
       "\n",
       "     monthly_fee   date_sold           broker  price_change_pct      price  \\\n",
       "532          0.0  2017-05-10  Fastighetsbyrån               5.0  5750000.0   \n",
       "903          0.0  2016-03-16            Notar              11.0  5950000.0   \n",
       "\n",
       "     total_area  price_per_sqm  price_per_tsqm  list_price  \n",
       "532       140.0   46000.000000    41071.428571   5476000.0  \n",
       "903       135.0   49583.333333    44074.074074   5360000.0  "
      ]
     },
     "execution_count": 18,
     "metadata": {},
     "output_type": "execute_result"
    }
   ],
   "source": [
    "df[df.address.str.contains('Merkurigränd')]"
   ]
  },
  {
   "cell_type": "code",
   "execution_count": 19,
   "metadata": {},
   "outputs": [
    {
     "data": {
      "text/html": [
       "<div>\n",
       "<style scoped>\n",
       "    .dataframe tbody tr th:only-of-type {\n",
       "        vertical-align: middle;\n",
       "    }\n",
       "\n",
       "    .dataframe tbody tr th {\n",
       "        vertical-align: top;\n",
       "    }\n",
       "\n",
       "    .dataframe thead th {\n",
       "        text-align: right;\n",
       "    }\n",
       "</style>\n",
       "<table border=\"1\" class=\"dataframe\">\n",
       "  <thead>\n",
       "    <tr style=\"text-align: right;\">\n",
       "      <th></th>\n",
       "      <th>house_type</th>\n",
       "      <th>address</th>\n",
       "      <th>region</th>\n",
       "      <th>area</th>\n",
       "      <th>sup_area</th>\n",
       "      <th>rooms</th>\n",
       "      <th>land_area</th>\n",
       "      <th>monthly_fee</th>\n",
       "      <th>date_sold</th>\n",
       "      <th>broker</th>\n",
       "      <th>price_change_pct</th>\n",
       "      <th>price</th>\n",
       "      <th>total_area</th>\n",
       "      <th>price_per_sqm</th>\n",
       "      <th>price_per_tsqm</th>\n",
       "      <th>list_price</th>\n",
       "    </tr>\n",
       "  </thead>\n",
       "  <tbody>\n",
       "    <tr>\n",
       "      <th>57</th>\n",
       "      <td>Radhus</td>\n",
       "      <td>Venusgränd 24</td>\n",
       "      <td>TUREBERG</td>\n",
       "      <td>128.0</td>\n",
       "      <td>0.0</td>\n",
       "      <td>4.0</td>\n",
       "      <td>135.0</td>\n",
       "      <td>0.0</td>\n",
       "      <td>2018-11-16</td>\n",
       "      <td>Mäklarhuset</td>\n",
       "      <td>6.0</td>\n",
       "      <td>5270000.0</td>\n",
       "      <td>128.0</td>\n",
       "      <td>41171.87500</td>\n",
       "      <td>41171.87500</td>\n",
       "      <td>4972000.0</td>\n",
       "    </tr>\n",
       "    <tr>\n",
       "      <th>1131</th>\n",
       "      <td>Villa</td>\n",
       "      <td>Venusgränd 2</td>\n",
       "      <td>TUREBERG</td>\n",
       "      <td>126.0</td>\n",
       "      <td>0.0</td>\n",
       "      <td>4.0</td>\n",
       "      <td>217.0</td>\n",
       "      <td>0.0</td>\n",
       "      <td>2015-05-13</td>\n",
       "      <td>SkandiaMäklarna</td>\n",
       "      <td>23.0</td>\n",
       "      <td>5510000.0</td>\n",
       "      <td>126.0</td>\n",
       "      <td>43730.15873</td>\n",
       "      <td>43730.15873</td>\n",
       "      <td>4480000.0</td>\n",
       "    </tr>\n",
       "  </tbody>\n",
       "</table>\n",
       "</div>"
      ],
      "text/plain": [
       "     house_type        address    region   area  sup_area  rooms  land_area  \\\n",
       "57       Radhus  Venusgränd 24  TUREBERG  128.0       0.0    4.0      135.0   \n",
       "1131      Villa   Venusgränd 2  TUREBERG  126.0       0.0    4.0      217.0   \n",
       "\n",
       "      monthly_fee   date_sold           broker  price_change_pct      price  \\\n",
       "57            0.0  2018-11-16      Mäklarhuset               6.0  5270000.0   \n",
       "1131          0.0  2015-05-13  SkandiaMäklarna              23.0  5510000.0   \n",
       "\n",
       "      total_area  price_per_sqm  price_per_tsqm  list_price  \n",
       "57         128.0    41171.87500     41171.87500   4972000.0  \n",
       "1131       126.0    43730.15873     43730.15873   4480000.0  "
      ]
     },
     "execution_count": 19,
     "metadata": {},
     "output_type": "execute_result"
    }
   ],
   "source": [
    "df[df.address.str.contains('Venusgränd')]"
   ]
  },
  {
   "cell_type": "markdown",
   "metadata": {},
   "source": [
    "# Exploring"
   ]
  },
  {
   "cell_type": "code",
   "execution_count": 20,
   "metadata": {},
   "outputs": [],
   "source": [
    "%matplotlib inline\n",
    "import matplotlib.pyplot as plt"
   ]
  },
  {
   "cell_type": "code",
   "execution_count": 21,
   "metadata": {},
   "outputs": [],
   "source": [
    "def scatter_vs_price(var):\n",
    "    data = pd.concat([df['price'], df[var]], axis=1)\n",
    "    data.plot.scatter(x=var, y='price', ylim=(0,25000000));\n",
    "    plt.show()"
   ]
  },
  {
   "cell_type": "code",
   "execution_count": 22,
   "metadata": {},
   "outputs": [
    {
     "data": {
      "image/png": "[encoded data removed]",
      "text/plain": [
       "<Figure size 432x288 with 1 Axes>"
      ]
     },
     "metadata": {
      "needs_background": "light"
     },
     "output_type": "display_data"
    }
   ],
   "source": [
    "#show a scatterplot to see correlation\n",
    "scatter_vs_price('area')"
   ]
  },
  {
   "cell_type": "code",
   "execution_count": 23,
   "metadata": {},
   "outputs": [],
   "source": [
    "#area has missing values, drop all rows without area - too important\n",
    "df = df.dropna(subset=['area'])"
   ]
  },
  {
   "cell_type": "code",
   "execution_count": 24,
   "metadata": {},
   "outputs": [
    {
     "data": {
      "image/png": "[encoded data removed]",
      "text/plain": [
       "<Figure size 432x288 with 1 Axes>"
      ]
     },
     "metadata": {
      "needs_background": "light"
     },
     "output_type": "display_data"
    }
   ],
   "source": [
    "#outliers \n",
    "plt.boxplot(df['area'], 0, 'rD')\n",
    "plt.show()"
   ]
  },
  {
   "cell_type": "code",
   "execution_count": 25,
   "metadata": {},
   "outputs": [],
   "source": [
    "#remove any rows with area above 450\n",
    "df = df[df.area < 450]"
   ]
  },
  {
   "cell_type": "code",
   "execution_count": 26,
   "metadata": {},
   "outputs": [
    {
     "data": {
      "image/png": "[encoded data removed]",
      "text/plain": [
       "<Figure size 432x288 with 1 Axes>"
      ]
     },
     "metadata": {
      "needs_background": "light"
     },
     "output_type": "display_data"
    }
   ],
   "source": [
    "scatter_vs_price('area')"
   ]
  },
  {
   "cell_type": "markdown",
   "metadata": {},
   "source": [
    "## Sup area"
   ]
  },
  {
   "cell_type": "code",
   "execution_count": 27,
   "metadata": {},
   "outputs": [],
   "source": [
    "#missing sup_are should have sup_area = 0\n",
    "df['sup_area'].fillna(0, inplace=True)"
   ]
  },
  {
   "cell_type": "code",
   "execution_count": 28,
   "metadata": {},
   "outputs": [
    {
     "data": {
      "image/png": "[encoded data removed]",
      "text/plain": [
       "<Figure size 432x288 with 1 Axes>"
      ]
     },
     "metadata": {
      "needs_background": "light"
     },
     "output_type": "display_data"
    }
   ],
   "source": [
    "scatter_vs_price('sup_area')"
   ]
  },
  {
   "cell_type": "code",
   "execution_count": 29,
   "metadata": {},
   "outputs": [
    {
     "data": {
      "image/png": "[encoded data removed]",
      "text/plain": [
       "<Figure size 432x288 with 1 Axes>"
      ]
     },
     "metadata": {
      "needs_background": "light"
     },
     "output_type": "display_data"
    }
   ],
   "source": [
    "plt.boxplot(df['sup_area'], 0, 'rD')\n",
    "plt.show()"
   ]
  },
  {
   "cell_type": "code",
   "execution_count": 30,
   "metadata": {},
   "outputs": [
    {
     "data": {
      "text/html": [
       "<div>\n",
       "<style scoped>\n",
       "    .dataframe tbody tr th:only-of-type {\n",
       "        vertical-align: middle;\n",
       "    }\n",
       "\n",
       "    .dataframe tbody tr th {\n",
       "        vertical-align: top;\n",
       "    }\n",
       "\n",
       "    .dataframe thead th {\n",
       "        text-align: right;\n",
       "    }\n",
       "</style>\n",
       "<table border=\"1\" class=\"dataframe\">\n",
       "  <thead>\n",
       "    <tr style=\"text-align: right;\">\n",
       "      <th></th>\n",
       "      <th>house_type</th>\n",
       "      <th>address</th>\n",
       "      <th>region</th>\n",
       "      <th>area</th>\n",
       "      <th>sup_area</th>\n",
       "      <th>rooms</th>\n",
       "      <th>land_area</th>\n",
       "      <th>monthly_fee</th>\n",
       "      <th>date_sold</th>\n",
       "      <th>broker</th>\n",
       "      <th>price_change_pct</th>\n",
       "      <th>price</th>\n",
       "      <th>total_area</th>\n",
       "      <th>price_per_sqm</th>\n",
       "      <th>price_per_tsqm</th>\n",
       "      <th>list_price</th>\n",
       "    </tr>\n",
       "  </thead>\n",
       "  <tbody>\n",
       "    <tr>\n",
       "      <th>728</th>\n",
       "      <td>Villa</td>\n",
       "      <td>Götavägen 33</td>\n",
       "      <td>TÖJNAN</td>\n",
       "      <td>207.0</td>\n",
       "      <td>217.0</td>\n",
       "      <td>6.0</td>\n",
       "      <td>1480.0</td>\n",
       "      <td>0.0</td>\n",
       "      <td>2016-09-26</td>\n",
       "      <td>Fastighetsbyrån</td>\n",
       "      <td>-1.0</td>\n",
       "      <td>7825000.0</td>\n",
       "      <td>424.0</td>\n",
       "      <td>37801.932367</td>\n",
       "      <td>18455.188679</td>\n",
       "      <td>7904000.0</td>\n",
       "    </tr>\n",
       "    <tr>\n",
       "      <th>758</th>\n",
       "      <td>Villa</td>\n",
       "      <td>Bokvägen 2A</td>\n",
       "      <td>HELENELUND</td>\n",
       "      <td>159.0</td>\n",
       "      <td>236.0</td>\n",
       "      <td>8.0</td>\n",
       "      <td>1079.0</td>\n",
       "      <td>0.0</td>\n",
       "      <td>2016-09-02</td>\n",
       "      <td>Fastighetsbyrån</td>\n",
       "      <td>7.0</td>\n",
       "      <td>8000000.0</td>\n",
       "      <td>395.0</td>\n",
       "      <td>50314.465409</td>\n",
       "      <td>20253.164557</td>\n",
       "      <td>7477000.0</td>\n",
       "    </tr>\n",
       "    <tr>\n",
       "      <th>1323</th>\n",
       "      <td>Villa</td>\n",
       "      <td>Mjölnarst. 4B</td>\n",
       "      <td>TUREBERG</td>\n",
       "      <td>281.0</td>\n",
       "      <td>291.0</td>\n",
       "      <td>10.0</td>\n",
       "      <td>1227.0</td>\n",
       "      <td>0.0</td>\n",
       "      <td>2014-09-15</td>\n",
       "      <td>Notar</td>\n",
       "      <td>-8.0</td>\n",
       "      <td>9700000.0</td>\n",
       "      <td>572.0</td>\n",
       "      <td>34519.572954</td>\n",
       "      <td>16958.041958</td>\n",
       "      <td>10543000.0</td>\n",
       "    </tr>\n",
       "  </tbody>\n",
       "</table>\n",
       "</div>"
      ],
      "text/plain": [
       "     house_type        address      region   area  sup_area  rooms  land_area  \\\n",
       "728       Villa   Götavägen 33      TÖJNAN  207.0     217.0    6.0     1480.0   \n",
       "758       Villa    Bokvägen 2A  HELENELUND  159.0     236.0    8.0     1079.0   \n",
       "1323      Villa  Mjölnarst. 4B    TUREBERG  281.0     291.0   10.0     1227.0   \n",
       "\n",
       "      monthly_fee   date_sold           broker  price_change_pct      price  \\\n",
       "728           0.0  2016-09-26  Fastighetsbyrån              -1.0  7825000.0   \n",
       "758           0.0  2016-09-02  Fastighetsbyrån               7.0  8000000.0   \n",
       "1323          0.0  2014-09-15            Notar              -8.0  9700000.0   \n",
       "\n",
       "      total_area  price_per_sqm  price_per_tsqm  list_price  \n",
       "728        424.0   37801.932367    18455.188679   7904000.0  \n",
       "758        395.0   50314.465409    20253.164557   7477000.0  \n",
       "1323       572.0   34519.572954    16958.041958  10543000.0  "
      ]
     },
     "execution_count": 30,
     "metadata": {},
     "output_type": "execute_result"
    }
   ],
   "source": [
    "df[df.sup_area > 200]"
   ]
  },
  {
   "cell_type": "markdown",
   "metadata": {},
   "source": [
    "## Monthly fee"
   ]
  },
  {
   "cell_type": "code",
   "execution_count": 31,
   "metadata": {},
   "outputs": [],
   "source": [
    "#missing listing_fee is normal - set to 0\n",
    "df['monthly_fee'].fillna(0, inplace=True)"
   ]
  },
  {
   "cell_type": "code",
   "execution_count": 32,
   "metadata": {},
   "outputs": [
    {
     "data": {
      "image/png": "[encoded data removed]",
      "text/plain": [
       "<Figure size 432x288 with 1 Axes>"
      ]
     },
     "metadata": {
      "needs_background": "light"
     },
     "output_type": "display_data"
    }
   ],
   "source": [
    "scatter_vs_price('monthly_fee')"
   ]
  },
  {
   "cell_type": "code",
   "execution_count": 33,
   "metadata": {},
   "outputs": [],
   "source": [
    "df['is_condo'] = df['monthly_fee'].apply(lambda fee: 0 if fee == 0 else 1)"
   ]
  },
  {
   "cell_type": "markdown",
   "metadata": {},
   "source": [
    "## Price change percent"
   ]
  },
  {
   "cell_type": "code",
   "execution_count": 34,
   "metadata": {},
   "outputs": [],
   "source": [
    "#missing price_change_pct means no change = 0\n",
    "df['price_change_pct'].fillna(0, inplace=True)"
   ]
  },
  {
   "cell_type": "code",
   "execution_count": 35,
   "metadata": {},
   "outputs": [],
   "source": [
    "df = df[df.price_change_pct < 35]"
   ]
  },
  {
   "cell_type": "code",
   "execution_count": 36,
   "metadata": {},
   "outputs": [
    {
     "data": {
      "image/png": "[encoded data removed]",
      "text/plain": [
       "<Figure size 432x288 with 1 Axes>"
      ]
     },
     "metadata": {
      "needs_background": "light"
     },
     "output_type": "display_data"
    }
   ],
   "source": [
    "scatter_vs_price('price_change_pct')"
   ]
  },
  {
   "cell_type": "markdown",
   "metadata": {},
   "source": [
    "## Land area"
   ]
  },
  {
   "cell_type": "code",
   "execution_count": 37,
   "metadata": {},
   "outputs": [],
   "source": [
    "#filling land_area with = seems legit\n",
    "df['land_area'].fillna(0, inplace=True)"
   ]
  },
  {
   "cell_type": "code",
   "execution_count": 38,
   "metadata": {},
   "outputs": [],
   "source": [
    "df = df[df.land_area < 2800]"
   ]
  },
  {
   "cell_type": "code",
   "execution_count": 39,
   "metadata": {},
   "outputs": [
    {
     "data": {
      "image/png": "[encoded data removed]",
      "text/plain": [
       "<Figure size 432x288 with 1 Axes>"
      ]
     },
     "metadata": {
      "needs_background": "light"
     },
     "output_type": "display_data"
    }
   ],
   "source": [
    "scatter_vs_price('land_area')"
   ]
  },
  {
   "cell_type": "markdown",
   "metadata": {},
   "source": [
    "## Rooms"
   ]
  },
  {
   "cell_type": "code",
   "execution_count": 40,
   "metadata": {},
   "outputs": [
    {
     "data": {
      "image/png": "[encoded data removed]",
      "text/plain": [
       "<Figure size 432x288 with 1 Axes>"
      ]
     },
     "metadata": {
      "needs_background": "light"
     },
     "output_type": "display_data"
    }
   ],
   "source": [
    "scatter_vs_price('rooms')"
   ]
  },
  {
   "cell_type": "code",
   "execution_count": 41,
   "metadata": {},
   "outputs": [
    {
     "data": {
      "text/plain": [
       "Index(['house_type', 'address', 'region', 'area', 'sup_area', 'rooms',\n",
       "       'land_area', 'monthly_fee', 'date_sold', 'broker', 'price_change_pct',\n",
       "       'price', 'total_area', 'price_per_sqm', 'price_per_tsqm', 'list_price',\n",
       "       'is_condo'],\n",
       "      dtype='object')"
      ]
     },
     "execution_count": 41,
     "metadata": {},
     "output_type": "execute_result"
    }
   ],
   "source": [
    "df.columns"
   ]
  },
  {
   "cell_type": "code",
   "execution_count": 42,
   "metadata": {},
   "outputs": [
    {
     "data": {
      "image/png": "[encoded data removed]",
      "text/plain": [
       "<Figure size 432x288 with 1 Axes>"
      ]
     },
     "metadata": {
      "needs_background": "light"
     },
     "output_type": "display_data"
    }
   ],
   "source": [
    "# ...and then we can look at that scatter plot\n",
    "data = pd.concat([df['rooms'], df['total_area']], axis=1)\n",
    "data.plot.scatter(x='total_area', y='rooms', ylim=(0,15))\n",
    "plt.show()"
   ]
  },
  {
   "cell_type": "code",
   "execution_count": 43,
   "metadata": {},
   "outputs": [],
   "source": [
    "df = df[df.total_area < 500]"
   ]
  },
  {
   "cell_type": "code",
   "execution_count": 44,
   "metadata": {},
   "outputs": [
    {
     "data": {
      "text/plain": [
       "house_type          1569\n",
       "address             1569\n",
       "region              1569\n",
       "area                1569\n",
       "sup_area            1569\n",
       "rooms               1569\n",
       "land_area           1569\n",
       "monthly_fee         1569\n",
       "date_sold           1569\n",
       "broker              1569\n",
       "price_change_pct    1569\n",
       "price               1569\n",
       "total_area          1569\n",
       "price_per_sqm       1569\n",
       "price_per_tsqm      1569\n",
       "list_price          1569\n",
       "is_condo            1569\n",
       "dtype: int64"
      ]
     },
     "execution_count": 44,
     "metadata": {},
     "output_type": "execute_result"
    }
   ],
   "source": [
    "df.count()"
   ]
  },
  {
   "cell_type": "code",
   "execution_count": 45,
   "metadata": {},
   "outputs": [
    {
     "data": {
      "image/png": "[encoded data removed]",
      "text/plain": [
       "<Figure size 432x288 with 12 Axes>"
      ]
     },
     "metadata": {
      "needs_background": "light"
     },
     "output_type": "display_data"
    }
   ],
   "source": [
    "#we're done with the numerical values, let's check the histograms\n",
    "df.hist()\n",
    "plt.show()"
   ]
  },
  {
   "cell_type": "markdown",
   "metadata": {},
   "source": [
    "# Categorical"
   ]
  },
  {
   "cell_type": "markdown",
   "metadata": {},
   "source": [
    "## House type"
   ]
  },
  {
   "cell_type": "code",
   "execution_count": 46,
   "metadata": {},
   "outputs": [
    {
     "data": {
      "text/plain": [
       "count       1569\n",
       "unique         2\n",
       "top       Radhus\n",
       "freq         797\n",
       "Name: house_type, dtype: object"
      ]
     },
     "execution_count": 46,
     "metadata": {},
     "output_type": "execute_result"
    }
   ],
   "source": [
    "df['house_type'].describe()"
   ]
  },
  {
   "cell_type": "code",
   "execution_count": 47,
   "metadata": {},
   "outputs": [
    {
     "data": {
      "text/plain": [
       "array(['Villa', 'Radhus'], dtype=object)"
      ]
     },
     "execution_count": 47,
     "metadata": {},
     "output_type": "execute_result"
    }
   ],
   "source": [
    "df.house_type.unique()"
   ]
  },
  {
   "cell_type": "code",
   "execution_count": 48,
   "metadata": {},
   "outputs": [
    {
     "data": {
      "text/plain": [
       "Radhus    797\n",
       "Villa     772\n",
       "Name: house_type, dtype: int64"
      ]
     },
     "execution_count": 48,
     "metadata": {},
     "output_type": "execute_result"
    }
   ],
   "source": [
    "counts = df['house_type'].value_counts()\n",
    "counts"
   ]
  },
  {
   "cell_type": "code",
   "execution_count": 49,
   "metadata": {},
   "outputs": [
    {
     "data": {
      "image/png": "[encoded data removed]",
      "text/plain": [
       "<Figure size 432x288 with 1 Axes>"
      ]
     },
     "metadata": {
      "needs_background": "light"
     },
     "output_type": "display_data"
    }
   ],
   "source": [
    "fig, ax = plt.subplots()\n",
    "df['house_type'].value_counts().plot(ax=ax, kind='bar')\n",
    "plt.show()"
   ]
  },
  {
   "cell_type": "markdown",
   "metadata": {},
   "source": [
    "## Region"
   ]
  },
  {
   "cell_type": "code",
   "execution_count": 50,
   "metadata": {},
   "outputs": [
    {
     "data": {
      "text/plain": [
       "count     1569\n",
       "unique      27\n",
       "top       VIBY\n",
       "freq       278\n",
       "Name: region, dtype: object"
      ]
     },
     "execution_count": 50,
     "metadata": {},
     "output_type": "execute_result"
    }
   ],
   "source": [
    "df['region'].describe()"
   ]
  },
  {
   "cell_type": "code",
   "execution_count": 51,
   "metadata": {},
   "outputs": [
    {
     "data": {
      "text/plain": [
       "array(['ROTEBRO', 'VIBY', 'SJÖBERG', 'EDSBERG', 'TEGELHAGEN',\n",
       "       'TÖRNSKOGEN', 'KVARNSKOGEN', 'FÅGELSÅNGEN', 'LANDSNORA', 'HÄGGVIK',\n",
       "       'WAXMORA', 'GILLBO', 'NORRVIKEN', 'HELENELUND', 'TÖJNAN', 'VÄSJÖN',\n",
       "       'EDSVIKEN', 'TUREBERG', 'KÄRRDAL', 'SILVERDAL', 'SOLÄNGEN',\n",
       "       'SOLLENTUNA', 'SKÄLBY', 'POMMERN', 'FALKBERGET', 'TUNBERGET',\n",
       "       'HUSET SÅLT VISNINGEN INSTÄLLD'], dtype=object)"
      ]
     },
     "execution_count": 51,
     "metadata": {},
     "output_type": "execute_result"
    }
   ],
   "source": [
    "df.region.unique()"
   ]
  },
  {
   "cell_type": "code",
   "execution_count": 52,
   "metadata": {},
   "outputs": [
    {
     "data": {
      "text/plain": [
       "VIBY                             278\n",
       "ROTEBRO                          173\n",
       "NORRVIKEN                        172\n",
       "TÖJNAN                           125\n",
       "HELENELUND                       101\n",
       "EDSVIKEN                          92\n",
       "HÄGGVIK                           88\n",
       "FÅGELSÅNGEN                       65\n",
       "TUREBERG                          55\n",
       "SILVERDAL                         54\n",
       "TEGELHAGEN                        50\n",
       "SJÖBERG                           48\n",
       "EDSBERG                           47\n",
       "TÖRNSKOGEN                        44\n",
       "LANDSNORA                         37\n",
       "KÄRRDAL                           37\n",
       "WAXMORA                           26\n",
       "VÄSJÖN                            19\n",
       "SOLÄNGEN                          18\n",
       "KVARNSKOGEN                       16\n",
       "SOLLENTUNA                        10\n",
       "SKÄLBY                             4\n",
       "GILLBO                             4\n",
       "TUNBERGET                          2\n",
       "FALKBERGET                         2\n",
       "HUSET SÅLT VISNINGEN INSTÄLLD      1\n",
       "POMMERN                            1\n",
       "Name: region, dtype: int64"
      ]
     },
     "execution_count": 52,
     "metadata": {},
     "output_type": "execute_result"
    }
   ],
   "source": [
    "counts = df['region'].value_counts()\n",
    "counts"
   ]
  },
  {
   "cell_type": "markdown",
   "metadata": {},
   "source": [
    "# Feature Engineering"
   ]
  },
  {
   "cell_type": "markdown",
   "metadata": {},
   "source": [
    "## Date Sold"
   ]
  },
  {
   "cell_type": "code",
   "execution_count": 53,
   "metadata": {},
   "outputs": [],
   "source": [
    "df['date_sold'] = pd.to_datetime(df['date_sold'])\n",
    "df['year'] = df['date_sold'].dt.year\n",
    "df['month'] = df['date_sold'].dt.month"
   ]
  },
  {
   "cell_type": "code",
   "execution_count": 54,
   "metadata": {},
   "outputs": [
    {
     "data": {
      "image/png": "[encoded data removed]",
      "text/plain": [
       "<Figure size 432x288 with 1 Axes>"
      ]
     },
     "metadata": {
      "needs_background": "light"
     },
     "output_type": "display_data"
    }
   ],
   "source": [
    "fig, ax = plt.subplots()\n",
    "df['year'].value_counts().plot(ax=ax, kind='bar')\n",
    "plt.show()"
   ]
  },
  {
   "cell_type": "code",
   "execution_count": 55,
   "metadata": {},
   "outputs": [
    {
     "data": {
      "image/png": "[encoded data removed]",
      "text/plain": [
       "<Figure size 432x288 with 1 Axes>"
      ]
     },
     "metadata": {
      "needs_background": "light"
     },
     "output_type": "display_data"
    }
   ],
   "source": [
    "fig, ax = plt.subplots()\n",
    "df['month'].value_counts().plot(ax=ax, kind='bar')\n",
    "plt.show()"
   ]
  },
  {
   "cell_type": "markdown",
   "metadata": {},
   "source": [
    "## Broker"
   ]
  },
  {
   "cell_type": "code",
   "execution_count": 56,
   "metadata": {},
   "outputs": [
    {
     "data": {
      "text/plain": [
       "count                1569\n",
       "unique                 29\n",
       "top       Fastighetsbyrån\n",
       "freq                  498\n",
       "Name: broker, dtype: object"
      ]
     },
     "execution_count": 56,
     "metadata": {},
     "output_type": "execute_result"
    }
   ],
   "source": [
    "df['broker'].describe()"
   ]
  },
  {
   "cell_type": "code",
   "execution_count": 57,
   "metadata": {},
   "outputs": [
    {
     "data": {
      "text/plain": [
       "Fastighetsbyrån                             498\n",
       "Mäklarhuset                                 209\n",
       "Bjurfors                                    179\n",
       "Notar                                       139\n",
       "Susanne Persson                             116\n",
       "HusmanHagberg                               114\n",
       "Svensk Fastighetsförmedling                 112\n",
       "Länsförsäkringar Fastighetsförmedling        87\n",
       "SkandiaMäklarna                              41\n",
       "ERA                                          25\n",
       "Erik Olsson Fastighetsförmedling             14\n",
       "Svenska Mäklargruppen                         4\n",
       "Urban by ESNY                                 3\n",
       "Jägholm Norrortsmäklarna                      3\n",
       "Hemverket AB                                  3\n",
       "Karlsson & Uddare AB                          3\n",
       "Mäklarringen                                  3\n",
       "Real Vision Sweden AB                         2\n",
       "Gripsholms Fastighetsförmedling AB            2\n",
       "RE/MAX RE/MAX Boetgruppen                     2\n",
       "Fastighetsmäklarna                            2\n",
       "Eric Thors Fastighetsbyrå AB                  1\n",
       "Magnusson Mäkleri Lidingö AB                  1\n",
       "Historiska Hem                                1\n",
       "Mäklarfirman Vincent Forssbeck KB             1\n",
       "Magnusson Mäkleri Östermalm AB                1\n",
       "Wallenberg Fastighetsförmedling               1\n",
       "Skeppsholmen Fastighetsmäkleri AB             1\n",
       "Jesper Magnusson Fastighetsförmedling AB      1\n",
       "Name: broker, dtype: int64"
      ]
     },
     "execution_count": 57,
     "metadata": {},
     "output_type": "execute_result"
    }
   ],
   "source": [
    "counts = df['broker'].value_counts()\n",
    "counts"
   ]
  },
  {
   "cell_type": "code",
   "execution_count": 58,
   "metadata": {},
   "outputs": [
    {
     "data": {
      "image/png": "[encoded data removed]",
      "text/plain": [
       "<Figure size 432x288 with 1 Axes>"
      ]
     },
     "metadata": {
      "needs_background": "light"
     },
     "output_type": "display_data"
    }
   ],
   "source": [
    "fig, ax = plt.subplots()\n",
    "df['broker'].value_counts().plot(ax=ax, kind='bar')\n",
    "plt.show()"
   ]
  },
  {
   "cell_type": "markdown",
   "metadata": {},
   "source": [
    "# Price"
   ]
  },
  {
   "cell_type": "code",
   "execution_count": 59,
   "metadata": {},
   "outputs": [
    {
     "data": {
      "text/plain": [
       "count    1.569000e+03\n",
       "mean     5.760109e+06\n",
       "std      2.231760e+06\n",
       "min      1.450000e+06\n",
       "25%      4.150000e+06\n",
       "50%      5.425000e+06\n",
       "75%      7.025000e+06\n",
       "max      2.075000e+07\n",
       "Name: price, dtype: float64"
      ]
     },
     "execution_count": 59,
     "metadata": {},
     "output_type": "execute_result"
    }
   ],
   "source": [
    "df['price'].describe()"
   ]
  },
  {
   "cell_type": "markdown",
   "metadata": {},
   "source": [
    " move to kkr (thousands of crowns) to make it easier to read"
   ]
  },
  {
   "cell_type": "code",
   "execution_count": 60,
   "metadata": {},
   "outputs": [],
   "source": [
    "df['price'] = df.apply(lambda row: row.price/1000, axis=1)"
   ]
  },
  {
   "cell_type": "code",
   "execution_count": 61,
   "metadata": {},
   "outputs": [],
   "source": [
    "import seaborn as sns"
   ]
  },
  {
   "cell_type": "code",
   "execution_count": 62,
   "metadata": {},
   "outputs": [
    {
     "data": {
      "image/png": "[encoded data removed]",
      "text/plain": [
       "<Figure size 432x288 with 1 Axes>"
      ]
     },
     "metadata": {
      "needs_background": "light"
     },
     "output_type": "display_data"
    }
   ],
   "source": [
    "#histogram\n",
    "sns.distplot(df['price']);\n",
    "plt.show()"
   ]
  },
  {
   "cell_type": "code",
   "execution_count": 63,
   "metadata": {},
   "outputs": [
    {
     "data": {
      "image/png": "[encoded data removed]",
      "text/plain": [
       "<Figure size 432x288 with 1 Axes>"
      ]
     },
     "metadata": {
      "needs_background": "light"
     },
     "output_type": "display_data"
    }
   ],
   "source": [
    "plt.boxplot(df['price'], 0, 'rD')\n",
    "plt.show()"
   ]
  },
  {
   "cell_type": "code",
   "execution_count": 64,
   "metadata": {},
   "outputs": [],
   "source": [
    "df = df[df.price < 20000]"
   ]
  },
  {
   "cell_type": "code",
   "execution_count": 65,
   "metadata": {},
   "outputs": [
    {
     "data": {
      "text/plain": [
       "Index(['house_type', 'address', 'region', 'area', 'sup_area', 'rooms',\n",
       "       'land_area', 'monthly_fee', 'date_sold', 'broker', 'price_change_pct',\n",
       "       'price', 'total_area', 'price_per_sqm', 'price_per_tsqm', 'list_price',\n",
       "       'is_condo', 'year', 'month'],\n",
       "      dtype='object')"
      ]
     },
     "execution_count": 65,
     "metadata": {},
     "output_type": "execute_result"
    }
   ],
   "source": [
    "df.columns"
   ]
  },
  {
   "cell_type": "code",
   "execution_count": 66,
   "metadata": {},
   "outputs": [],
   "source": [
    "df.to_csv('houses_clean.csv')"
   ]
  },
  {
   "cell_type": "code",
   "execution_count": null,
   "metadata": {},
   "outputs": [],
   "source": []
  }
 ],
 "metadata": {
  "kernelspec": {
   "display_name": "Python 3",
   "language": "python",
   "name": "python3"
  },
  "language_info": {
   "codemirror_mode": {
    "name": "ipython",
    "version": 3
   },
   "file_extension": ".py",
   "mimetype": "text/x-python",
   "name": "python",
   "nbconvert_exporter": "python",
   "pygments_lexer": "ipython3",
   "version": "3.7.4"
  }
 },
 "nbformat": 4,
 "nbformat_minor": 2
}
